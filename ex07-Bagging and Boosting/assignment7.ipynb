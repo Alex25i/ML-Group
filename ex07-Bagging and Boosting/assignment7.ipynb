{
 "cells": [
  {
   "cell_type": "markdown",
   "metadata": {},
   "source": [
    "# Assignment 7: Bagging and Boosting\n",
    "\n",
    "Only use the already imported library `numpy`, `matplotlib` and the Python standard library. For the evaluation you may also use scikit-learn (`sklearn`). Make sure that the dataset `titanic.csv` is in the same directory as the notebook.\n",
    "\n",
    "List your team members (name and immatriculation number) and indicate whether you are a B.Sc. Data Science or other group in the following cell:"
   ]
  },
  {
   "cell_type": "markdown",
   "metadata": {},
   "source": [
    "Jonas Lammert 3149269\n",
    "\n",
    "Alexander Tiessen 2965198\n",
    "\n",
    "Patrick Schneefuss 2951267"
   ]
  },
  {
   "cell_type": "code",
   "execution_count": 113,
   "metadata": {
    "tags": []
   },
   "outputs": [],
   "source": [
    "# You are allowed to use the numpy package and the DecisionTreeClassifier.\n",
    "import matplotlib.pyplot as plt\n",
    "import numpy as np\n",
    "from sklearn.tree import DecisionTreeClassifier\n",
    "\n",
    "\n",
    "def load_dataset(path):\n",
    "    import pandas as pd\n",
    "    from sklearn.model_selection import train_test_split\n",
    "\n",
    "    df = pd.read_csv('titanic.csv')\n",
    "    # The feature engineering mostly follows the notebook by Manav Segal: https://www.kaggle.com/startupsci/titanic-data-science-solutions\n",
    "    # From the Name attribute we can extract titles, which gives insight about the social status/age/gender of the passenger.\n",
    "    df['Title'] = df['Name'].str.extract(' ([a-zA-Z]+)\\.', expand=False)\n",
    "    df['Title'] = df['Title'].replace(['Lady', 'Countess', 'Capt', 'Col', 'Don', 'Dr', 'Major', 'Rev', 'Sir', 'Jonkheer', 'Dona'], 'Rare')\n",
    "    df['Title'] = df['Title'].replace(['Mlle', 'Ms'], 'Miss')\n",
    "    df['Title'] = df['Title'].replace('Mme', 'Mrs')\n",
    "    # We map the Title attribute to a one-hot encoding.\n",
    "    df = df.join(pd.get_dummies(df['Title'], prefix='Title'))\n",
    "\n",
    "    # We map the Sex attribute to a numeric representation.\n",
    "    df['Sex'] = df['Sex'].map({'female': 1, 'male': 0}).astype(int)\n",
    "\n",
    "    # We one-hot encode Pclass.\n",
    "    df = df.join(pd.get_dummies(df['Pclass'], prefix='Pclass'))\n",
    "\n",
    "    # Based on the number of sibling-spouses in SibSp and parents-childern in Parch, \n",
    "    # we can determine whether a passenger was on board alone.\n",
    "    df['IsAlone'] = ((df['SibSp'] + df['Parch'] + 1) == 1).astype(int)\n",
    "\n",
    "    # We remove all attributes that do not seem relevant to the prediction, or are already encoded in another attribute.\n",
    "    df = df.drop(['PassengerId', 'Name', 'Title', 'Ticket', 'Cabin', 'Parch', 'SibSp'], axis=1)\n",
    "\n",
    "    # For remaining features, we have to separate train and test, \n",
    "    # as we will impute missing data based on statistics in the training data.\n",
    "    df_train, df_test = train_test_split(df, test_size=0.2, random_state=2020)\n",
    "    # For Embarked, we set all missing values to the most frequent port and then one-hot encode the attribute.\n",
    "    def impute_embarked():    \n",
    "        freq_port = df_train['Embarked'].dropna().mode()[0]\n",
    "        output = []\n",
    "        for df in (df_train, df_test):\n",
    "            df = df.join(pd.get_dummies(df['Embarked'].fillna(freq_port), prefix='Embarked'))\n",
    "            df = df.drop('Embarked', axis=1)\n",
    "            output.append(df)\n",
    "        return output\n",
    "\n",
    "    df_train, df_test = impute_embarked()\n",
    "\n",
    "    # For Age, we set missing values to the median dependent on the pair of Sex and Pclass.\n",
    "    guess_ages = np.zeros((2, 3))\n",
    "    for df in (df_train, df_test):\n",
    "        for i in range(2):\n",
    "            for j in range(3):\n",
    "                guess_ages[i, j] = df[(df['Sex'] == i) & (df['Pclass'] == j+1)]['Age'].dropna().median()\n",
    "        for i in range(2):\n",
    "            for j in range(3):\n",
    "                df.loc[(df['Age'].isnull()) & (df['Sex'] == i) & (df['Pclass'] == j+1), 'Age'] = guess_ages[i, j]\n",
    "        df['Age'] = df['Age'].astype(int)\n",
    "\n",
    "    df_train = df_train.drop(['Pclass'], axis=1)\n",
    "    df_test = df_test.drop(['Pclass'], axis=1)\n",
    "\n",
    "    X_train = df_train.values[:, 1:]\n",
    "    X_test = df_test.values[:, 1:]\n",
    "    y_train = df_train.values[:, 0]\n",
    "    y_test = df_test.values[:, 0]\n",
    "    \n",
    "    return X_train, X_test, y_train, y_test\n",
    "    \n",
    "X_train, X_test, y_train, y_test = load_dataset('titanic.csv')"
   ]
  },
  {
   "cell_type": "markdown",
   "metadata": {},
   "source": [
    "The Titanic dataset and a description can be found at [Kaggle](https://www.kaggle.com/c/titanic/data). The feature engineering mostly follows the work by [Manav Segal](https://www.kaggle.com/startupsci/titanic-data-science-solutions). \n",
    "\n",
    "The prepared dataset contains the following attributes:\n",
    "- Sex: binary (0 = Male, 1 = Female)\n",
    "- Age: integer\n",
    "- Fare: float\n",
    "- Title_{Master, Miss, Mr, Mrs, Rare}: title of passenger (extracted from name), binary, one-hot encoding of categorical variable Title\n",
    "- Pclass_{1, 2, 3}: ticket class corresponds to socio-economic status (1 = upper class, 2 = middle class, 3 = lower class), binary, one-hot encoding of categorical variable Pclass\n",
    "- IsAlone: whether the passenger has no siblings/spouses/parents/children on board, binary\n",
    "- Embarked_{C, Q, S}: port at which passenger embarked (C = Cherbourg, Q = Queenstown, S = Southampton), binary, one-hot encoding of categorical variable Embarked\n",
    "\n",
    "The classification target is:\n",
    "- Survived: binary\n",
    "\n",
    "Data is split into train-test with a 80-20 ratio yielding 712 training and 179 test samples. Train and test data is stored in the variables `(X_train, y_train)` and `(X_test, y_test)` respectively."
   ]
  },
  {
   "cell_type": "markdown",
   "metadata": {},
   "source": [
    "## Task 1: Random Forest\n",
    "\n",
    "In this task, you will implement a random forest classifier using the scikit-learn implementation of the decision tree. \n",
    "\n",
    "Use bootstrap sampling and sample 20% of the original data set for each tree. Randomly select 6 attributes/columns for each trained tree. The prediction of each tree should be weighted equally in the majority vote. Use the already imported class `DecisionTreeClassifier` for your decision trees. You can find the decision tree documentation [here](https://scikit-learn.org/stable/modules/generated/sklearn.tree.DecisionTreeClassifier.html). You may use either the default parameters or experiment with different settings.\n",
    "\n",
    "You will evaluate your model on the test data using scikit-learn with the methods shown in the lecture ([precision, recall, F1-score](https://scikit-learn.org/stable/modules/generated/sklearn.metrics.precision_recall_fscore_support.html#sklearn.metrics.precision_recall_fscore_support), [confusion matrices](https://scikit-learn.org/stable/modules/generated/sklearn.metrics.confusion_matrix.html?highlight=confusion%20matrix#sklearn.metrics.confusion_matrix), ...). Try out different number of trees and compare the performance w.r.t. this parameter. Feel free to import any functions you need from scikit-learn for this purpose. \n"
   ]
  },
  {
   "cell_type": "code",
   "execution_count": 114,
   "metadata": {},
   "outputs": [],
   "source": [
    "class RandomForestClassifier(object):\n",
    "    def __init__(self, number_of_trees):\n",
    "        self.number_of_trees = number_of_trees\n",
    "        self.trees = []\n",
    "        self.tree_features = []\n",
    "        for i in range(self.number_of_trees):\n",
    "            self.trees.append(DecisionTreeClassifier())      \n",
    "     \n",
    "        \n",
    "    def fit(self, X, y): \n",
    "\n",
    "        for tree in self.trees:\n",
    "            X_sample, y_sample = bootstrap_sample(X, y)\n",
    "            columns = sorted(np.random.choice(range(np.size(X,1)), replace=False, size=6))            \n",
    "            self.tree_features.append(columns)\n",
    "            tree.fit(X_sample[:,columns], y_sample)             \n",
    "        \n",
    "    \n",
    "    def predict(self, X):\n",
    "        y = [0 for i in range(np.size(X,0))]\n",
    "        for tree, columns in zip(self.trees, self.tree_features):\n",
    "            y = y + tree.predict(X[:,columns])       \n",
    "\n",
    "        # Since labels are binary (0,1) we simply added all prediction of the trees \n",
    "        # If the resulting value is smaller than tree_number / 2 majority is 0 else 1\n",
    "        y_pred = [(0 if i < (self.number_of_trees/2) else 1) for i in y]        \n",
    "        return y_pred\n",
    "\n",
    "def bootstrap_sample(X, y):    \n",
    "    index = np.random.choice(range(np.size(X,0)), replace=False, size=int((np.size(X,0)/100)*20))\n",
    "    X_sample = X[index,:]\n",
    "    y_sample = y[index]    \n",
    "    return X_sample, y_sample\n"
   ]
  },
  {
   "cell_type": "code",
   "execution_count": 115,
   "metadata": {
    "tags": []
   },
   "outputs": [
    {
     "data": {
      "text/plain": "<Figure size 432x288 with 1 Axes>",
      "image/png": "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\n"
     },
     "metadata": {
      "needs_background": "light"
     },
     "output_type": "display_data"
    },
    {
     "data": {
      "text/plain": "<Figure size 432x288 with 1 Axes>",
      "image/png": "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\n"
     },
     "metadata": {
      "needs_background": "light"
     },
     "output_type": "display_data"
    },
    {
     "data": {
      "text/plain": "<Figure size 432x288 with 1 Axes>",
      "image/png": "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\n"
     },
     "metadata": {
      "needs_background": "light"
     },
     "output_type": "display_data"
    }
   ],
   "source": [
    "# Implement your training and evaluation here.\n",
    "def evaluate(rf_classifier, X, y_true):\n",
    "\n",
    "    import sklearn.metrics      \n",
    "    y_pred = rf_classifier.predict(X) \n",
    "    prec,rec,f1,_ = sklearn.metrics.precision_recall_fscore_support(y_true, y_pred)\n",
    "    acc = sklearn.metrics.accuracy_score(y_true,y_pred)  \n",
    "    prec1 = sklearn.metrics.precision_score(y_true, y_pred)  \n",
    "    \n",
    "    return prec,rec,f1,acc\n",
    "\n",
    "def visualize_results(results, tree_count):\n",
    "    x_ticks = np.array([(i+1)*10 for i in range(len(tree_count))])\n",
    "      \n",
    "    # precision\n",
    "    data = [x[0][0] for x in results]\n",
    "    data1 = [x[0][1] for x in results]\n",
    "    ax = plt.subplot(111)\n",
    "    plt.xticks(x_ticks, tree_count)\n",
    "    ax.bar(x_ticks - 2, data, width=4, color='red', label=\"label 0\")\n",
    "    ax.bar(x_ticks + 2, data1, width=4,color='magenta', label=\"label 1\")\n",
    "    plt.xlabel(\"Number of DecisionTrees in Forest\")\n",
    "    plt.ylabel(\"Precision\")    \n",
    "    plt.ylim(0.3,1.2)\n",
    "    plt.legend() \n",
    "    plt.show()\n",
    "    plt.close()\n",
    "    # recall\n",
    "    data = [x[1][0] for x in results]\n",
    "    data1 = [x[1][1] for x in results]\n",
    "    ax = plt.subplot(111)\n",
    "    plt.xticks(x_ticks, tree_count)\n",
    "    ax.bar(x_ticks - 2, data, width=4, color='green', label=\"label 0\")\n",
    "    ax.bar(x_ticks + 2, data1, width=4,color='blue', label=\"label 1\")\n",
    "    plt.xlabel(\"Number of DecisionTrees in Forest\")\n",
    "    plt.ylabel(\"Recall\")\n",
    "    plt.ylim(0.3,1.2) \n",
    "    plt.legend()    \n",
    "    plt.show()\n",
    "    plt.close()\n",
    "    #f1-score    \n",
    "    data = [x[2][0] for x in results]\n",
    "    data1 = [x[2][1] for x in results]\n",
    "    ax = plt.subplot(111)\n",
    "    plt.xticks(x_ticks, tree_count)\n",
    "    ax.bar(x_ticks - 2, data, width=4, color='orange', label=\"label 0\")\n",
    "    ax.bar(x_ticks + 2, data1, width=4,color='yellow', label=\"label 1\")\n",
    "    plt.xlabel(\"Number of DecisionTrees in Forest\")\n",
    "    plt.ylabel(\"F1-Score\")  \n",
    "    plt.ylim(0.3,1.2)\n",
    "    plt.legend()  \n",
    "    plt.show()\n",
    "    plt.close()    \n",
    "\n",
    "results = []\n",
    "label_weights = np.bincount(list(y_test))\n",
    "sample_size = np.size(y_test)\n",
    "tree_count = [5,10,20,40,80]\n",
    "for tree in tree_count:\n",
    "    rf_class = RandomForestClassifier(tree)\n",
    "    rf_class.fit(X_train, y_train)\n",
    "    prec, rec, f1, acc = evaluate(rf_class, X_test, y_test)\n",
    "    results.append([prec, rec, f1, acc])\n",
    "visualize_results(results,tree_count)   \n",
    "    \n",
    "\n",
    "\n",
    "\n",
    "\n",
    "\n",
    "\n",
    "\n",
    "\n",
    "\n"
   ]
  },
  {
   "cell_type": "markdown",
   "metadata": {},
   "source": [
    "## Task 2: Interpreting Random Forests\n",
    "\n",
    "Implement the mean decrease of accuracy for the [sklearn.ensemble.RandomForestClassifier](https://scikit-learn.org/stable/modules/generated/sklearn.ensemble.RandomForestClassifier.html) `forest` to analyse learned attribute importances. Use the test set `X_test` and `y_test` as out-of-bag-samples. Permute the values of the assessed attribute by randomly shuffling the corresponding column. Plot the results to compare the importance of each feature. Discuss your results (are any importance values surprising, do the results make sense in the context of the task, ...).\n",
    "\n",
    "Note: We have already trained the classifier and stored it in the variable `forest`. You only need to implement MDA and the plots for your results."
   ]
  },
  {
   "cell_type": "code",
   "execution_count": 116,
   "metadata": {
    "tags": []
   },
   "outputs": [
    {
     "name": "stdout",
     "output_type": "stream",
     "text": [
      "Precision: [0.77192982 0.73846154]\n",
      "Recall: [0.83809524 0.64864865]\n",
      "F1-score: [0.80365297 0.69064748]\n"
     ]
    }
   ],
   "source": [
    "def create_forest():\n",
    "    import sklearn.ensemble\n",
    "    import sklearn.metrics\n",
    "    forest = sklearn.ensemble.RandomForestClassifier(8)\n",
    "    forest.fit(X_train, y_train)\n",
    "    prec, rec, f1, _ = sklearn.metrics.precision_recall_fscore_support(y_test, forest.predict(X_test))\n",
    "    print('Precision:', prec)\n",
    "    print('Recall:', rec)\n",
    "    print('F1-score:', f1)\n",
    "    return forest\n",
    "\n",
    "forest = create_forest()"
   ]
  },
  {
   "cell_type": "code",
   "execution_count": 120,
   "metadata": {},
   "outputs": [
    {
     "data": {
      "text/plain": "<Figure size 432x288 with 1 Axes>",
      "image/png": "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\n"
     },
     "metadata": {
      "needs_background": "light"
     },
     "output_type": "display_data"
    }
   ],
   "source": [
    "# Implement your solution here.\n",
    "import sklearn.metrics as metrics\n",
    "ATTRIBUTE_INDICES = [[0], [1], [2], [3,4,5,6,7], [8,9,10], [11], [12,13,14]]\n",
    "def mean_decrease_of_accuracy():\n",
    "    y_pred = forest.predict(X_test)\n",
    "    original_accuracy = metrics.accuracy_score(y_test, y_pred)\n",
    "    accuracy_scores = []\n",
    "\n",
    "    for attr_indices_index in range(len(ATTRIBUTE_INDICES)):\n",
    "        first_index = ATTRIBUTE_INDICES[attr_indices_index][0]\n",
    "        last_index = ATTRIBUTE_INDICES[attr_indices_index][-1]\n",
    "        attribute = X_test.T[first_index:last_index + 1]\n",
    "\n",
    "        shuffled_attribute = np.random.permutation(np.copy(attribute.T)).T\n",
    "        X_test_permuted = np.copy(X_test).T\n",
    "        feature_index = first_index\n",
    "        for feature in shuffled_attribute:\n",
    "            X_test_permuted[feature_index] = feature\n",
    "            feature_index = feature_index + 1\n",
    "        # X_test_permuted is now ready for testing\n",
    "        y_pred = forest.predict(X_test_permuted.T)\n",
    "\n",
    "        accuracy = metrics.accuracy_score(y_test, y_pred)\n",
    "\n",
    "        accuracy_scores.append(original_accuracy - accuracy)\n",
    "    return accuracy_scores\n",
    "\n",
    "def plot_mean_decrease_of_accuracy(accuracy):\n",
    "    objects = ('Sex', 'Age', 'Fare', 'Title', 'Class', 'Alone', 'embarked')\n",
    "    y_pos = np.arange(len(objects))\n",
    "\n",
    "    plt.bar(y_pos, accuracy, align='center', alpha=0.5)\n",
    "    plt.xticks(y_pos, objects)\n",
    "    plt.ylabel('Decrease of Accuracy')\n",
    "    plt.title('Mean Decrease of Accuracy')\n",
    "\n",
    "    plt.show()\n",
    "\n",
    "accuracy = mean_decrease_of_accuracy()\n",
    "plot_mean_decrease_of_accuracy(accuracy)"
   ]
  },
  {
   "cell_type": "markdown",
   "source": [
    "It makes sense, that the sex the title and the class are important as high class women were allowed to board the lifeboats first.\n",
    "it surprises that the age has a negative decrease as children were also preferred in the selection for the seats of the lifeboats."
   ],
   "metadata": {
    "collapsed": false
   }
  },
  {
   "cell_type": "markdown",
   "metadata": {},
   "source": [
    "## Task 3: Discrete AdaBoost with Decision Stumps\n",
    " \n",
    "*For all students other than B.Sc. Data Science.*  \n",
    "\n",
    "In this task, you will implement the discrete AdaBoost algorithm using decision stumps as weak learners. Your training will run until either `n_learners` weak learners have been added or a perfect accuracy on the training data set is achieved. Use the function `initialize_decision_stumps` to create decision stumps, which you can train on your weighted data using `fit` and predict using `predict`. The decision stumps are instances of the class [sklearn.tree.DecisionTreeClassifier](https://scikit-learn.org/stable/modules/generated/sklearn.tree.DecisionTreeClassifier.html).\n",
    "\n",
    "In addition, you will evaluate your model on the test data (`X_test`, `y_test`) using scikit-learn with the methods shown in the lecture (precision, recall, F1-score, confusion matrices, ...). Feel free to import any functions you need from scikit-learn for this purpose."
   ]
  },
  {
   "cell_type": "code",
   "execution_count": 118,
   "metadata": {},
   "outputs": [],
   "source": [
    "def initialize_decision_stump():\n",
    "    stump = DecisionTreeClassifier(criterion='entropy', max_depth=1)\n",
    "    return stump\n",
    "\n",
    "\n",
    "class AdaBoostClassifier(object):\n",
    "    def __init__(self, n_learners):\n",
    "        self.n_learners = n_learners\n",
    "        # Add any initialization you need here.\n",
    "        self.learner_weigths = None\n",
    "        self.error = None\n",
    "        self.sample_wights = None\n",  
    "    \n",
    "    def fit(self, X, y):\n",
    "        # Implement your solution here.\n",
    "        n = X.shape[0]\n",
    "        self.sample_weights = np.zeros(shape=(iters, n))\n",
    "        self.n_learners = np.zeros(shape=iters, dtype=object)\n",
    "        self.learner_weights = np.zeros(shape=iters)\n",
    "        self.error = np.zeros(shape=iters)\n",
    "        self.sample_weights[0] = np.ones(shape=n) / n \n",
    "    \n", 
    "        for t in range(iters):\n",
    "           curr_sample_weights = self.sample_weights[t]\n",
    "           learner = initialize_decision_stump()\n",
    "           learner = learner.fit(X, y, sample_weights=curr_sample_weights)\n",
    "           learner_pred = learner.predict(X)\n",
    "           err = curr_sample_weights[(learner_pred != y)].sum()# / n\n",
    "           learner_weight = np.log((1 - err) / err) / 2\n",
    "           new_sample_weights = curr_sample_weights * np.exp(-learner_weight * y * learner_pred)\n",
    "           new_sample_weights /= new_sample_weights.sum()\n",
    "           if t+1 < iters:\n",
    "                self.sample_weights[t+1] = new_sample_weights\n",
    "           self.learner[t] = learner\n",
    "           self.learner_weights[t] = learner_weight\n",
    "           self.errors[t] = err\n",
    "        return self\n",   
    "        pass\n",
    "    \n",
    "    def predict(self, X, y):\n",
    "        # Implement your solution here.\n",
    "        learners_predict = np.array([n_learners.predict(X) for n_learners in self.n_learners])\n",
    "        return np.sign(np.dot(self.learner_weights, learners_predict))\n",
    "        pass\n"
   ]
  },
  {
   "cell_type": "code",
   "execution_count": 119,
   "metadata": {},
   "outputs": [],
   "source": [
    "# Implement your training and evaluation here. You may reuse the code from Task 1."
    "def evaluate(ab_classifier, X, y_true):\n",
    "\n",
    "    import sklearn.metrics      \n",
    "    y_pred = ab_classifier.predict(X) \n",
    "    prec,rec,f1,_ = sklearn.metrics.precision_recall_fscore_support(y_true, y_pred)\n",
    "    acc = sklearn.metrics.accuracy_score(y_true,y_pred)  \n",
    "    prec1 = sklearn.metrics.precision_score(y_true, y_pred)  \n",
    "    \n",
    "    return prec,rec,f1,acc\n",
    "\n"
   ]
  }
 ],
 "metadata": {
  "kernelspec": {
   "name": "python3",
   "language": "python",
   "display_name": "Python 3"
  },
  "language_info": {
   "codemirror_mode": {
    "name": "ipython",
    "version": 3
   },
   "file_extension": ".py",
   "mimetype": "text/x-python",
   "name": "python",
   "nbconvert_exporter": "python",
   "pygments_lexer": "ipython3",
   "version": "2.7.17-final"
  }
 },
 "nbformat": 4,
 "nbformat_minor": 1
}
