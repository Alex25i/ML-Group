{
 "cells": [
  {
   "cell_type": "markdown",
   "metadata": {},
   "source": [
    "# Assignment 1: k-nearest neighbors\n",
    "\n",
    "Only use the already imported libraries `numpy` and `matplotlib.pyplot` for the assignment. Do not import any other library. "
   ]
  },
  {
   "cell_type": "code",
   "execution_count": 281,
   "metadata": {},
   "outputs": [],
   "source": [
    "# Load required packages and dataset. Do not modify.\n",
    "import matplotlib.pyplot as plt\n",
    "import numpy as np\n",
    "\n",
    "\n",
    "def load_iris_dataset():\n",
    "    from sklearn import datasets\n",
    "    iris = datasets.load_iris()\n",
    "    X = iris.data\n",
    "    y = iris.target\n",
    "    return X, y\n",
    "    \n",
    "X, y = load_iris_dataset()\n"
   ]
  },
  {
   "cell_type": "markdown",
   "metadata": {},
   "source": [
    "## Task 1: Visualization and Preprocessing\n",
    "\n",
    "1) Explain the content of the dataset in few words. What are the input features? What is the classification target? Check out: [https://en.wikipedia.org/wiki/Iris_flower_data_set](https://en.wikipedia.org/wiki/Iris_flower_data_set).\n"
   ]
  },
  {
   "cell_type": "markdown",
   "metadata": {},
   "source": [
    "It is a analysis of Iris setosa, Iris virginica and Iris versicolor. From each of them 50 samples are taken.\n",
    "There are two features for the length and the width of the sepals and two features for the length and the width of the petals in centimeters.\n",
    "\n",
    "The classification target is distinguishing the species from each other."
   ]
  },
  {
   "cell_type": "markdown",
   "metadata": {},
   "source": [
    "2) Compute and print the following statistics about the dataset:\n",
    "  - Number of samples\n",
    "  - Number of samples per class\n",
    "  - Mean and standard deviation for each input feature\n"
   ]
  },
  {
   "cell_type": "code",
   "execution_count": 282,
   "metadata": {},
   "outputs": [],
   "source": [
    "number_of_samples = len(y)\n",
    "\n",
    "number_of_samples_0 = np.bincount(y)[0]\n",
    "number_of_samples_1 = np.bincount(y)[1]\n",
    "number_of_samples_2 = np.bincount(y)[2]\n",
    "\n",
    "mean = np.mean(X, axis=0)\n",
    "standard_deviation = np.std(X, axis=0)"
   ]
  },
  {
   "cell_type": "markdown",
   "metadata": {},
   "source": [
    "3) Visualize the variables Sepal length and Petal length in a scatter plot (Sepal length on the x-axis, petal length on the y-axis). Color each point of the plot according to its class."
   ]
  },
  {
   "cell_type": "code",
   "execution_count": 283,
   "metadata": {},
   "outputs": [
    {
     "output_type": "display_data",
     "data": {
      "image/png": "[encoded data removed]",
      "text/plain": "<Figure size 432x288 with 1 Axes>",
      "image/svg+xml": "<?xml version=\"1.0\" encoding=\"utf-8\" standalone=\"no\"?>\n<!DOCTYPE svg PUBLIC \"-//W3C//DTD SVG 1.1//EN\"\n  \"http://www.w3.org/Graphics/SVG/1.1/DTD/svg11.dtd\">\n<!-- Created with matplotlib (http://matplotlib.org/) -->\n<svg height=\"252.018125pt\" version=\"1.1\" viewBox=\"0 0 375.603125 252.018125\" width=\"375.603125pt\" xmlns=\"http://www.w3.org/2000/svg\" xmlns:xlink=\"http://www.w3.org/1999/xlink\">\n <defs>\n  <style type=\"text/css\">\n*{stroke-linecap:butt;stroke-linejoin:round;}\n  </style>\n </defs>\n <g id=\"figure_1\">\n  <g id=\"patch_1\">\n   <path d=\"M 0 252.018125 \nL 375.603125 252.018125 \nL 375.603125 0 \nL 0 0 \nz\n\" style=\"fill:none;\"/>\n  </g>\n  <g id=\"axes_1\">\n   <g id=\"patch_2\">\n    <path d=\"M 30.103125 228.14 \nL 364.903125 228.14 \nL 364.903125 10.7 \nL 30.103125 10.7 \nz\n\" style=\"fill:#ffffff;\"/>\n   </g>\n   <g id=\"PathCollection_1\">\n    <defs>\n     <path d=\"M 0 3 \nC 0.795609 3 1.55874 2.683901 2.12132 2.12132 \nC 2.683901 1.55874 3 0.795609 3 0 \nC 3 -0.795609 2.683901 -1.55874 2.12132 -2.12132 \nC 1.55874 -2.683901 0.795609 -3 0 -3 \nC -0.795609 -3 -1.55874 -2.683901 -2.12132 -2.12132 \nC -2.683901 -1.55874 -3 -0.795609 -3 0 \nC -3 0.795609 -2.683901 1.55874 -2.12132 2.12132 \nC -1.55874 2.683901 -0.795609 3 0 3 \nz\n\" id=\"C0_0_42e056d73e\"/>\n    </defs>\n    <g clip-path=\"url(#p16fec89f07)\">\n     <use style=\"fill:#a6cee3;stroke:#a6cee3;\" x=\"113.376461\" xlink:href=\"#C0_0_42e056d73e\" y=\"94.991771\"/>\n    </g>\n    <g clip-path=\"url(#p16fec89f07)\">\n     <use style=\"fill:#a6cee3;stroke:#a6cee3;\" x=\"96.551128\" xlink:href=\"#C0_0_42e056d73e\" y=\"135.705486\"/>\n    </g>\n    <g clip-path=\"url(#p16fec89f07)\">\n     <use style=\"fill:#a6cee3;stroke:#a6cee3;\" x=\"79.725796\" xlink:href=\"#C0_0_42e056d73e\" y=\"119.42\"/>\n    </g>\n    <g clip-path=\"url(#p16fec89f07)\">\n     <use style=\"fill:#a6cee3;stroke:#a6cee3;\" x=\"71.313129\" xlink:href=\"#C0_0_42e056d73e\" y=\"127.562743\"/>\n    </g>\n    <g clip-path=\"url(#p16fec89f07)\">\n     <use style=\"fill:#a6cee3;stroke:#a6cee3;\" x=\"104.963795\" xlink:href=\"#C0_0_42e056d73e\" y=\"86.849028\"/>\n    </g>\n    <g clip-path=\"url(#p16fec89f07)\">\n     <use style=\"fill:#a6cee3;stroke:#a6cee3;\" x=\"138.61446\" xlink:href=\"#C0_0_42e056d73e\" y=\"62.420799\"/>\n    </g>\n    <g clip-path=\"url(#p16fec89f07)\">\n     <use style=\"fill:#a6cee3;stroke:#a6cee3;\" x=\"71.313129\" xlink:href=\"#C0_0_42e056d73e\" y=\"103.134514\"/>\n    </g>\n    <g clip-path=\"url(#p16fec89f07)\">\n     <use style=\"fill:#a6cee3;stroke:#a6cee3;\" x=\"104.963795\" xlink:href=\"#C0_0_42e056d73e\" y=\"103.134514\"/>\n    </g>\n    <g clip-path=\"url(#p16fec89f07)\">\n     <use style=\"fill:#a6cee3;stroke:#a6cee3;\" x=\"54.487796\" xlink:href=\"#C0_0_42e056d73e\" y=\"143.848229\"/>\n    </g>\n    <g clip-path=\"url(#p16fec89f07)\">\n     <use style=\"fill:#a6cee3;stroke:#a6cee3;\" x=\"96.551128\" xlink:href=\"#C0_0_42e056d73e\" y=\"127.562743\"/>\n    </g>\n    <g clip-path=\"url(#p16fec89f07)\">\n     <use style=\"fill:#a6cee3;stroke:#a6cee3;\" x=\"138.61446\" xlink:href=\"#C0_0_42e056d73e\" y=\"78.706285\"/>\n    </g>\n    <g clip-path=\"url(#p16fec89f07)\">\n     <use style=\"fill:#a6cee3;stroke:#a6cee3;\" x=\"88.138462\" xlink:href=\"#C0_0_42e056d73e\" y=\"103.134514\"/>\n    </g>\n    <g clip-path=\"url(#p16fec89f07)\">\n     <use style=\"fill:#a6cee3;stroke:#a6cee3;\" x=\"88.138462\" xlink:href=\"#C0_0_42e056d73e\" y=\"135.705486\"/>\n    </g>\n    <g clip-path=\"url(#p16fec89f07)\">\n     <use style=\"fill:#a6cee3;stroke:#a6cee3;\" x=\"46.07513\" xlink:href=\"#C0_0_42e056d73e\" y=\"135.705486\"/>\n    </g>\n    <g clip-path=\"url(#p16fec89f07)\">\n     <use style=\"fill:#a6cee3;stroke:#a6cee3;\" x=\"172.265126\" xlink:href=\"#C0_0_42e056d73e\" y=\"54.278056\"/>\n    </g>\n    <g clip-path=\"url(#p16fec89f07)\">\n     <use style=\"fill:#a6cee3;stroke:#a6cee3;\" x=\"163.852459\" xlink:href=\"#C0_0_42e056d73e\" y=\"21.707083\"/>\n    </g>\n    <g clip-path=\"url(#p16fec89f07)\">\n     <use style=\"fill:#a6cee3;stroke:#a6cee3;\" x=\"138.61446\" xlink:href=\"#C0_0_42e056d73e\" y=\"62.420799\"/>\n    </g>\n    <g clip-path=\"url(#p16fec89f07)\">\n     <use style=\"fill:#a6cee3;stroke:#a6cee3;\" x=\"113.376461\" xlink:href=\"#C0_0_42e056d73e\" y=\"94.991771\"/>\n    </g>\n    <g clip-path=\"url(#p16fec89f07)\">\n     <use style=\"fill:#a6cee3;stroke:#a6cee3;\" x=\"163.852459\" xlink:href=\"#C0_0_42e056d73e\" y=\"70.563542\"/>\n    </g>\n    <g clip-path=\"url(#p16fec89f07)\">\n     <use style=\"fill:#a6cee3;stroke:#a6cee3;\" x=\"113.376461\" xlink:href=\"#C0_0_42e056d73e\" y=\"70.563542\"/>\n    </g>\n    <g clip-path=\"url(#p16fec89f07)\">\n     <use style=\"fill:#a6cee3;stroke:#a6cee3;\" x=\"138.61446\" xlink:href=\"#C0_0_42e056d73e\" y=\"103.134514\"/>\n    </g>\n    <g clip-path=\"url(#p16fec89f07)\">\n     <use style=\"fill:#a6cee3;stroke:#a6cee3;\" x=\"113.376461\" xlink:href=\"#C0_0_42e056d73e\" y=\"78.706285\"/>\n    </g>\n    <g clip-path=\"url(#p16fec89f07)\">\n     <use style=\"fill:#a6cee3;stroke:#a6cee3;\" x=\"71.313129\" xlink:href=\"#C0_0_42e056d73e\" y=\"86.849028\"/>\n    </g>\n    <g clip-path=\"url(#p16fec89f07)\">\n     <use style=\"fill:#a6cee3;stroke:#a6cee3;\" x=\"113.376461\" xlink:href=\"#C0_0_42e056d73e\" y=\"111.277257\"/>\n    </g>\n    <g clip-path=\"url(#p16fec89f07)\">\n     <use style=\"fill:#a6cee3;stroke:#a6cee3;\" x=\"88.138462\" xlink:href=\"#C0_0_42e056d73e\" y=\"103.134514\"/>\n    </g>\n    <g clip-path=\"url(#p16fec89f07)\">\n     <use style=\"fill:#a6cee3;stroke:#a6cee3;\" x=\"104.963795\" xlink:href=\"#C0_0_42e056d73e\" y=\"135.705486\"/>\n    </g>\n    <g clip-path=\"url(#p16fec89f07)\">\n     <use style=\"fill:#a6cee3;stroke:#a6cee3;\" x=\"104.963795\" xlink:href=\"#C0_0_42e056d73e\" y=\"103.134514\"/>\n    </g>\n    <g clip-path=\"url(#p16fec89f07)\">\n     <use style=\"fill:#a6cee3;stroke:#a6cee3;\" x=\"121.789127\" xlink:href=\"#C0_0_42e056d73e\" y=\"94.991771\"/>\n    </g>\n    <g clip-path=\"url(#p16fec89f07)\">\n     <use style=\"fill:#a6cee3;stroke:#a6cee3;\" x=\"121.789127\" xlink:href=\"#C0_0_42e056d73e\" y=\"103.134514\"/>\n    </g>\n    <g clip-path=\"url(#p16fec89f07)\">\n     <use style=\"fill:#a6cee3;stroke:#a6cee3;\" x=\"79.725796\" xlink:href=\"#C0_0_42e056d73e\" y=\"119.42\"/>\n    </g>\n    <g clip-path=\"url(#p16fec89f07)\">\n     <use style=\"fill:#a6cee3;stroke:#a6cee3;\" x=\"88.138462\" xlink:href=\"#C0_0_42e056d73e\" y=\"127.562743\"/>\n    </g>\n    <g clip-path=\"url(#p16fec89f07)\">\n     <use style=\"fill:#a6cee3;stroke:#a6cee3;\" x=\"138.61446\" xlink:href=\"#C0_0_42e056d73e\" y=\"103.134514\"/>\n    </g>\n    <g clip-path=\"url(#p16fec89f07)\">\n     <use style=\"fill:#a6cee3;stroke:#a6cee3;\" x=\"121.789127\" xlink:href=\"#C0_0_42e056d73e\" y=\"46.135312\"/>\n    </g>\n    <g clip-path=\"url(#p16fec89f07)\">\n     <use style=\"fill:#a6cee3;stroke:#a6cee3;\" x=\"147.027127\" xlink:href=\"#C0_0_42e056d73e\" y=\"37.992569\"/>\n    </g>\n    <g clip-path=\"url(#p16fec89f07)\">\n     <use style=\"fill:#a6cee3;stroke:#a6cee3;\" x=\"96.551128\" xlink:href=\"#C0_0_42e056d73e\" y=\"127.562743\"/>\n    </g>\n    <g clip-path=\"url(#p16fec89f07)\">\n     <use style=\"fill:#a6cee3;stroke:#a6cee3;\" x=\"104.963795\" xlink:href=\"#C0_0_42e056d73e\" y=\"119.42\"/>\n    </g>\n    <g clip-path=\"url(#p16fec89f07)\">\n     <use style=\"fill:#a6cee3;stroke:#a6cee3;\" x=\"147.027127\" xlink:href=\"#C0_0_42e056d73e\" y=\"94.991771\"/>\n    </g>\n    <g clip-path=\"url(#p16fec89f07)\">\n     <use style=\"fill:#a6cee3;stroke:#a6cee3;\" x=\"96.551128\" xlink:href=\"#C0_0_42e056d73e\" y=\"86.849028\"/>\n    </g>\n    <g clip-path=\"url(#p16fec89f07)\">\n     <use style=\"fill:#a6cee3;stroke:#a6cee3;\" x=\"54.487796\" xlink:href=\"#C0_0_42e056d73e\" y=\"135.705486\"/>\n    </g>\n    <g clip-path=\"url(#p16fec89f07)\">\n     <use style=\"fill:#a6cee3;stroke:#a6cee3;\" x=\"113.376461\" xlink:href=\"#C0_0_42e056d73e\" y=\"103.134514\"/>\n    </g>\n    <g clip-path=\"url(#p16fec89f07)\">\n     <use style=\"fill:#a6cee3;stroke:#a6cee3;\" x=\"104.963795\" xlink:href=\"#C0_0_42e056d73e\" y=\"94.991771\"/>\n    </g>\n    <g clip-path=\"url(#p16fec89f07)\">\n     <use style=\"fill:#a6cee3;stroke:#a6cee3;\" x=\"62.900463\" xlink:href=\"#C0_0_42e056d73e\" y=\"192.704688\"/>\n    </g>\n    <g clip-path=\"url(#p16fec89f07)\">\n     <use style=\"fill:#a6cee3;stroke:#a6cee3;\" x=\"54.487796\" xlink:href=\"#C0_0_42e056d73e\" y=\"119.42\"/>\n    </g>\n    <g clip-path=\"url(#p16fec89f07)\">\n     <use style=\"fill:#a6cee3;stroke:#a6cee3;\" x=\"104.963795\" xlink:href=\"#C0_0_42e056d73e\" y=\"94.991771\"/>\n    </g>\n    <g clip-path=\"url(#p16fec89f07)\">\n     <use style=\"fill:#a6cee3;stroke:#a6cee3;\" x=\"113.376461\" xlink:href=\"#C0_0_42e056d73e\" y=\"70.563542\"/>\n    </g>\n    <g clip-path=\"url(#p16fec89f07)\">\n     <use style=\"fill:#a6cee3;stroke:#a6cee3;\" x=\"88.138462\" xlink:href=\"#C0_0_42e056d73e\" y=\"135.705486\"/>\n    </g>\n    <g clip-path=\"url(#p16fec89f07)\">\n     <use style=\"fill:#a6cee3;stroke:#a6cee3;\" x=\"113.376461\" xlink:href=\"#C0_0_42e056d73e\" y=\"70.563542\"/>\n    </g>\n    <g clip-path=\"url(#p16fec89f07)\">\n     <use style=\"fill:#a6cee3;stroke:#a6cee3;\" x=\"71.313129\" xlink:href=\"#C0_0_42e056d73e\" y=\"119.42\"/>\n    </g>\n    <g clip-path=\"url(#p16fec89f07)\">\n     <use style=\"fill:#a6cee3;stroke:#a6cee3;\" x=\"130.201794\" xlink:href=\"#C0_0_42e056d73e\" y=\"78.706285\"/>\n    </g>\n    <g clip-path=\"url(#p16fec89f07)\">\n     <use style=\"fill:#a6cee3;stroke:#a6cee3;\" x=\"104.963795\" xlink:href=\"#C0_0_42e056d73e\" y=\"111.277257\"/>\n    </g>\n    <g clip-path=\"url(#p16fec89f07)\">\n     <use style=\"fill:#fdbf6f;stroke:#fdbf6f;\" x=\"273.217123\" xlink:href=\"#C0_0_42e056d73e\" y=\"119.42\"/>\n    </g>\n    <g clip-path=\"url(#p16fec89f07)\">\n     <use style=\"fill:#fdbf6f;stroke:#fdbf6f;\" x=\"222.741124\" xlink:href=\"#C0_0_42e056d73e\" y=\"119.42\"/>\n    </g>\n    <g clip-path=\"url(#p16fec89f07)\">\n     <use style=\"fill:#fdbf6f;stroke:#fdbf6f;\" x=\"264.804456\" xlink:href=\"#C0_0_42e056d73e\" y=\"127.562743\"/>\n    </g>\n    <g clip-path=\"url(#p16fec89f07)\">\n     <use style=\"fill:#fdbf6f;stroke:#fdbf6f;\" x=\"147.027127\" xlink:href=\"#C0_0_42e056d73e\" y=\"192.704688\"/>\n    </g>\n    <g clip-path=\"url(#p16fec89f07)\">\n     <use style=\"fill:#fdbf6f;stroke:#fdbf6f;\" x=\"231.153791\" xlink:href=\"#C0_0_42e056d73e\" y=\"151.990972\"/>\n    </g>\n    <g clip-path=\"url(#p16fec89f07)\">\n     <use style=\"fill:#fdbf6f;stroke:#fdbf6f;\" x=\"163.852459\" xlink:href=\"#C0_0_42e056d73e\" y=\"151.990972\"/>\n    </g>\n    <g clip-path=\"url(#p16fec89f07)\">\n     <use style=\"fill:#fdbf6f;stroke:#fdbf6f;\" x=\"214.328458\" xlink:href=\"#C0_0_42e056d73e\" y=\"111.277257\"/>\n    </g>\n    <g clip-path=\"url(#p16fec89f07)\">\n     <use style=\"fill:#fdbf6f;stroke:#fdbf6f;\" x=\"96.551128\" xlink:href=\"#C0_0_42e056d73e\" y=\"184.561944\"/>\n    </g>\n    <g clip-path=\"url(#p16fec89f07)\">\n     <use style=\"fill:#fdbf6f;stroke:#fdbf6f;\" x=\"239.566457\" xlink:href=\"#C0_0_42e056d73e\" y=\"143.848229\"/>\n    </g>\n    <g clip-path=\"url(#p16fec89f07)\">\n     <use style=\"fill:#fdbf6f;stroke:#fdbf6f;\" x=\"121.789127\" xlink:href=\"#C0_0_42e056d73e\" y=\"160.133715\"/>\n    </g>\n    <g clip-path=\"url(#p16fec89f07)\">\n     <use style=\"fill:#fdbf6f;stroke:#fdbf6f;\" x=\"104.963795\" xlink:href=\"#C0_0_42e056d73e\" y=\"217.132917\"/>\n    </g>\n    <g clip-path=\"url(#p16fec89f07)\">\n     <use style=\"fill:#fdbf6f;stroke:#fdbf6f;\" x=\"180.677792\" xlink:href=\"#C0_0_42e056d73e\" y=\"135.705486\"/>\n    </g>\n    <g clip-path=\"url(#p16fec89f07)\">\n     <use style=\"fill:#fdbf6f;stroke:#fdbf6f;\" x=\"189.090459\" xlink:href=\"#C0_0_42e056d73e\" y=\"200.847431\"/>\n    </g>\n    <g clip-path=\"url(#p16fec89f07)\">\n     <use style=\"fill:#fdbf6f;stroke:#fdbf6f;\" x=\"197.503125\" xlink:href=\"#C0_0_42e056d73e\" y=\"143.848229\"/>\n    </g>\n    <g clip-path=\"url(#p16fec89f07)\">\n     <use style=\"fill:#fdbf6f;stroke:#fdbf6f;\" x=\"155.439793\" xlink:href=\"#C0_0_42e056d73e\" y=\"143.848229\"/>\n    </g>\n    <g clip-path=\"url(#p16fec89f07)\">\n     <use style=\"fill:#fdbf6f;stroke:#fdbf6f;\" x=\"247.979123\" xlink:href=\"#C0_0_42e056d73e\" y=\"127.562743\"/>\n    </g>\n    <g clip-path=\"url(#p16fec89f07)\">\n     <use style=\"fill:#fdbf6f;stroke:#fdbf6f;\" x=\"155.439793\" xlink:href=\"#C0_0_42e056d73e\" y=\"135.705486\"/>\n    </g>\n    <g clip-path=\"url(#p16fec89f07)\">\n     <use style=\"fill:#fdbf6f;stroke:#fdbf6f;\" x=\"172.265126\" xlink:href=\"#C0_0_42e056d73e\" y=\"160.133715\"/>\n    </g>\n    <g clip-path=\"url(#p16fec89f07)\">\n     <use style=\"fill:#fdbf6f;stroke:#fdbf6f;\" x=\"205.915791\" xlink:href=\"#C0_0_42e056d73e\" y=\"200.847431\"/>\n    </g>\n    <g clip-path=\"url(#p16fec89f07)\">\n     <use style=\"fill:#fdbf6f;stroke:#fdbf6f;\" x=\"155.439793\" xlink:href=\"#C0_0_42e056d73e\" y=\"176.419201\"/>\n    </g>\n    <g clip-path=\"url(#p16fec89f07)\">\n     <use style=\"fill:#fdbf6f;stroke:#fdbf6f;\" x=\"180.677792\" xlink:href=\"#C0_0_42e056d73e\" y=\"119.42\"/>\n    </g>\n    <g clip-path=\"url(#p16fec89f07)\">\n     <use style=\"fill:#fdbf6f;stroke:#fdbf6f;\" x=\"197.503125\" xlink:href=\"#C0_0_42e056d73e\" y=\"151.990972\"/>\n    </g>\n    <g clip-path=\"url(#p16fec89f07)\">\n     <use style=\"fill:#fdbf6f;stroke:#fdbf6f;\" x=\"214.328458\" xlink:href=\"#C0_0_42e056d73e\" y=\"176.419201\"/>\n    </g>\n    <g clip-path=\"url(#p16fec89f07)\">\n     <use style=\"fill:#fdbf6f;stroke:#fdbf6f;\" x=\"197.503125\" xlink:href=\"#C0_0_42e056d73e\" y=\"151.990972\"/>\n    </g>\n    <g clip-path=\"url(#p16fec89f07)\">\n     <use style=\"fill:#fdbf6f;stroke:#fdbf6f;\" x=\"222.741124\" xlink:href=\"#C0_0_42e056d73e\" y=\"143.848229\"/>\n    </g>\n    <g clip-path=\"url(#p16fec89f07)\">\n     <use style=\"fill:#fdbf6f;stroke:#fdbf6f;\" x=\"239.566457\" xlink:href=\"#C0_0_42e056d73e\" y=\"135.705486\"/>\n    </g>\n    <g clip-path=\"url(#p16fec89f07)\">\n     <use style=\"fill:#fdbf6f;stroke:#fdbf6f;\" x=\"256.39179\" xlink:href=\"#C0_0_42e056d73e\" y=\"151.990972\"/>\n    </g>\n    <g clip-path=\"url(#p16fec89f07)\">\n     <use style=\"fill:#fdbf6f;stroke:#fdbf6f;\" x=\"247.979123\" xlink:href=\"#C0_0_42e056d73e\" y=\"135.705486\"/>\n    </g>\n    <g clip-path=\"url(#p16fec89f07)\">\n     <use style=\"fill:#fdbf6f;stroke:#fdbf6f;\" x=\"189.090459\" xlink:href=\"#C0_0_42e056d73e\" y=\"143.848229\"/>\n    </g>\n    <g clip-path=\"url(#p16fec89f07)\">\n     <use style=\"fill:#fdbf6f;stroke:#fdbf6f;\" x=\"163.852459\" xlink:href=\"#C0_0_42e056d73e\" y=\"168.276458\"/>\n    </g>\n    <g clip-path=\"url(#p16fec89f07)\">\n     <use style=\"fill:#fdbf6f;stroke:#fdbf6f;\" x=\"147.027127\" xlink:href=\"#C0_0_42e056d73e\" y=\"184.561944\"/>\n    </g>\n    <g clip-path=\"url(#p16fec89f07)\">\n     <use style=\"fill:#fdbf6f;stroke:#fdbf6f;\" x=\"147.027127\" xlink:href=\"#C0_0_42e056d73e\" y=\"184.561944\"/>\n    </g>\n    <g clip-path=\"url(#p16fec89f07)\">\n     <use style=\"fill:#fdbf6f;stroke:#fdbf6f;\" x=\"172.265126\" xlink:href=\"#C0_0_42e056d73e\" y=\"160.133715\"/>\n    </g>\n    <g clip-path=\"url(#p16fec89f07)\">\n     <use style=\"fill:#fdbf6f;stroke:#fdbf6f;\" x=\"189.090459\" xlink:href=\"#C0_0_42e056d73e\" y=\"160.133715\"/>\n    </g>\n    <g clip-path=\"url(#p16fec89f07)\">\n     <use style=\"fill:#fdbf6f;stroke:#fdbf6f;\" x=\"138.61446\" xlink:href=\"#C0_0_42e056d73e\" y=\"135.705486\"/>\n    </g>\n    <g clip-path=\"url(#p16fec89f07)\">\n     <use style=\"fill:#fdbf6f;stroke:#fdbf6f;\" x=\"189.090459\" xlink:href=\"#C0_0_42e056d73e\" y=\"103.134514\"/>\n    </g>\n    <g clip-path=\"url(#p16fec89f07)\">\n     <use style=\"fill:#fdbf6f;stroke:#fdbf6f;\" x=\"247.979123\" xlink:href=\"#C0_0_42e056d73e\" y=\"127.562743\"/>\n    </g>\n    <g clip-path=\"url(#p16fec89f07)\">\n     <use style=\"fill:#fdbf6f;stroke:#fdbf6f;\" x=\"214.328458\" xlink:href=\"#C0_0_42e056d73e\" y=\"192.704688\"/>\n    </g>\n    <g clip-path=\"url(#p16fec89f07)\">\n     <use style=\"fill:#fdbf6f;stroke:#fdbf6f;\" x=\"155.439793\" xlink:href=\"#C0_0_42e056d73e\" y=\"135.705486\"/>\n    </g>\n    <g clip-path=\"url(#p16fec89f07)\">\n     <use style=\"fill:#fdbf6f;stroke:#fdbf6f;\" x=\"147.027127\" xlink:href=\"#C0_0_42e056d73e\" y=\"176.419201\"/>\n    </g>\n    <g clip-path=\"url(#p16fec89f07)\">\n     <use style=\"fill:#fdbf6f;stroke:#fdbf6f;\" x=\"147.027127\" xlink:href=\"#C0_0_42e056d73e\" y=\"168.276458\"/>\n    </g>\n    <g clip-path=\"url(#p16fec89f07)\">\n     <use style=\"fill:#fdbf6f;stroke:#fdbf6f;\" x=\"197.503125\" xlink:href=\"#C0_0_42e056d73e\" y=\"135.705486\"/>\n    </g>\n    <g clip-path=\"url(#p16fec89f07)\">\n     <use style=\"fill:#fdbf6f;stroke:#fdbf6f;\" x=\"172.265126\" xlink:href=\"#C0_0_42e056d73e\" y=\"168.276458\"/>\n    </g>\n    <g clip-path=\"url(#p16fec89f07)\">\n     <use style=\"fill:#fdbf6f;stroke:#fdbf6f;\" x=\"104.963795\" xlink:href=\"#C0_0_42e056d73e\" y=\"192.704688\"/>\n    </g>\n    <g clip-path=\"url(#p16fec89f07)\">\n     <use style=\"fill:#fdbf6f;stroke:#fdbf6f;\" x=\"155.439793\" xlink:href=\"#C0_0_42e056d73e\" y=\"160.133715\"/>\n    </g>\n    <g clip-path=\"url(#p16fec89f07)\">\n     <use style=\"fill:#fdbf6f;stroke:#fdbf6f;\" x=\"163.852459\" xlink:href=\"#C0_0_42e056d73e\" y=\"135.705486\"/>\n    </g>\n    <g clip-path=\"url(#p16fec89f07)\">\n     <use style=\"fill:#fdbf6f;stroke:#fdbf6f;\" x=\"163.852459\" xlink:href=\"#C0_0_42e056d73e\" y=\"143.848229\"/>\n    </g>\n    <g clip-path=\"url(#p16fec89f07)\">\n     <use style=\"fill:#fdbf6f;stroke:#fdbf6f;\" x=\"205.915791\" xlink:href=\"#C0_0_42e056d73e\" y=\"143.848229\"/>\n    </g>\n    <g clip-path=\"url(#p16fec89f07)\">\n     <use style=\"fill:#fdbf6f;stroke:#fdbf6f;\" x=\"113.376461\" xlink:href=\"#C0_0_42e056d73e\" y=\"176.419201\"/>\n    </g>\n    <g clip-path=\"url(#p16fec89f07)\">\n     <use style=\"fill:#fdbf6f;stroke:#fdbf6f;\" x=\"163.852459\" xlink:href=\"#C0_0_42e056d73e\" y=\"151.990972\"/>\n    </g>\n    <g clip-path=\"url(#p16fec89f07)\">\n     <use style=\"fill:#b15928;stroke:#b15928;\" x=\"214.328458\" xlink:href=\"#C0_0_42e056d73e\" y=\"111.277257\"/>\n    </g>\n    <g clip-path=\"url(#p16fec89f07)\">\n     <use style=\"fill:#b15928;stroke:#b15928;\" x=\"172.265126\" xlink:href=\"#C0_0_42e056d73e\" y=\"160.133715\"/>\n    </g>\n    <g clip-path=\"url(#p16fec89f07)\">\n     <use style=\"fill:#b15928;stroke:#b15928;\" x=\"281.629789\" xlink:href=\"#C0_0_42e056d73e\" y=\"135.705486\"/>\n    </g>\n    <g clip-path=\"url(#p16fec89f07)\">\n     <use style=\"fill:#b15928;stroke:#b15928;\" x=\"214.328458\" xlink:href=\"#C0_0_42e056d73e\" y=\"143.848229\"/>\n    </g>\n    <g clip-path=\"url(#p16fec89f07)\">\n     <use style=\"fill:#b15928;stroke:#b15928;\" x=\"231.153791\" xlink:href=\"#C0_0_42e056d73e\" y=\"135.705486\"/>\n    </g>\n    <g clip-path=\"url(#p16fec89f07)\">\n     <use style=\"fill:#b15928;stroke:#b15928;\" x=\"323.693121\" xlink:href=\"#C0_0_42e056d73e\" y=\"135.705486\"/>\n    </g>\n    <g clip-path=\"url(#p16fec89f07)\">\n     <use style=\"fill:#b15928;stroke:#b15928;\" x=\"96.551128\" xlink:href=\"#C0_0_42e056d73e\" y=\"176.419201\"/>\n    </g>\n    <g clip-path=\"url(#p16fec89f07)\">\n     <use style=\"fill:#b15928;stroke:#b15928;\" x=\"298.455122\" xlink:href=\"#C0_0_42e056d73e\" y=\"143.848229\"/>\n    </g>\n    <g clip-path=\"url(#p16fec89f07)\">\n     <use style=\"fill:#b15928;stroke:#b15928;\" x=\"247.979123\" xlink:href=\"#C0_0_42e056d73e\" y=\"176.419201\"/>\n    </g>\n    <g clip-path=\"url(#p16fec89f07)\">\n     <use style=\"fill:#b15928;stroke:#b15928;\" x=\"290.042455\" xlink:href=\"#C0_0_42e056d73e\" y=\"86.849028\"/>\n    </g>\n    <g clip-path=\"url(#p16fec89f07)\">\n     <use style=\"fill:#b15928;stroke:#b15928;\" x=\"231.153791\" xlink:href=\"#C0_0_42e056d73e\" y=\"119.42\"/>\n    </g>\n    <g clip-path=\"url(#p16fec89f07)\">\n     <use style=\"fill:#b15928;stroke:#b15928;\" x=\"222.741124\" xlink:href=\"#C0_0_42e056d73e\" y=\"160.133715\"/>\n    </g>\n    <g clip-path=\"url(#p16fec89f07)\">\n     <use style=\"fill:#b15928;stroke:#b15928;\" x=\"256.39179\" xlink:href=\"#C0_0_42e056d73e\" y=\"135.705486\"/>\n    </g>\n    <g clip-path=\"url(#p16fec89f07)\">\n     <use style=\"fill:#b15928;stroke:#b15928;\" x=\"163.852459\" xlink:href=\"#C0_0_42e056d73e\" y=\"176.419201\"/>\n    </g>\n    <g clip-path=\"url(#p16fec89f07)\">\n     <use style=\"fill:#b15928;stroke:#b15928;\" x=\"172.265126\" xlink:href=\"#C0_0_42e056d73e\" y=\"151.990972\"/>\n    </g>\n    <g clip-path=\"url(#p16fec89f07)\">\n     <use style=\"fill:#b15928;stroke:#b15928;\" x=\"222.741124\" xlink:href=\"#C0_0_42e056d73e\" y=\"119.42\"/>\n    </g>\n    <g clip-path=\"url(#p16fec89f07)\">\n     <use style=\"fill:#b15928;stroke:#b15928;\" x=\"231.153791\" xlink:href=\"#C0_0_42e056d73e\" y=\"135.705486\"/>\n    </g>\n    <g clip-path=\"url(#p16fec89f07)\">\n     <use style=\"fill:#b15928;stroke:#b15928;\" x=\"332.105787\" xlink:href=\"#C0_0_42e056d73e\" y=\"70.563542\"/>\n    </g>\n    <g clip-path=\"url(#p16fec89f07)\">\n     <use style=\"fill:#b15928;stroke:#b15928;\" x=\"332.105787\" xlink:href=\"#C0_0_42e056d73e\" y=\"168.276458\"/>\n    </g>\n    <g clip-path=\"url(#p16fec89f07)\">\n     <use style=\"fill:#b15928;stroke:#b15928;\" x=\"189.090459\" xlink:href=\"#C0_0_42e056d73e\" y=\"200.847431\"/>\n    </g>\n    <g clip-path=\"url(#p16fec89f07)\">\n     <use style=\"fill:#b15928;stroke:#b15928;\" x=\"264.804456\" xlink:href=\"#C0_0_42e056d73e\" y=\"119.42\"/>\n    </g>\n    <g clip-path=\"url(#p16fec89f07)\">\n     <use style=\"fill:#b15928;stroke:#b15928;\" x=\"155.439793\" xlink:href=\"#C0_0_42e056d73e\" y=\"151.990972\"/>\n    </g>\n    <g clip-path=\"url(#p16fec89f07)\">\n     <use style=\"fill:#b15928;stroke:#b15928;\" x=\"332.105787\" xlink:href=\"#C0_0_42e056d73e\" y=\"151.990972\"/>\n    </g>\n    <g clip-path=\"url(#p16fec89f07)\">\n     <use style=\"fill:#b15928;stroke:#b15928;\" x=\"214.328458\" xlink:href=\"#C0_0_42e056d73e\" y=\"160.133715\"/>\n    </g>\n    <g clip-path=\"url(#p16fec89f07)\">\n     <use style=\"fill:#b15928;stroke:#b15928;\" x=\"247.979123\" xlink:href=\"#C0_0_42e056d73e\" y=\"111.277257\"/>\n    </g>\n    <g clip-path=\"url(#p16fec89f07)\">\n     <use style=\"fill:#b15928;stroke:#b15928;\" x=\"290.042455\" xlink:href=\"#C0_0_42e056d73e\" y=\"119.42\"/>\n    </g>\n    <g clip-path=\"url(#p16fec89f07)\">\n     <use style=\"fill:#b15928;stroke:#b15928;\" x=\"205.915791\" xlink:href=\"#C0_0_42e056d73e\" y=\"151.990972\"/>\n    </g>\n    <g clip-path=\"url(#p16fec89f07)\">\n     <use style=\"fill:#b15928;stroke:#b15928;\" x=\"197.503125\" xlink:href=\"#C0_0_42e056d73e\" y=\"135.705486\"/>\n    </g>\n    <g clip-path=\"url(#p16fec89f07)\">\n     <use style=\"fill:#b15928;stroke:#b15928;\" x=\"222.741124\" xlink:href=\"#C0_0_42e056d73e\" y=\"151.990972\"/>\n    </g>\n    <g clip-path=\"url(#p16fec89f07)\">\n     <use style=\"fill:#b15928;stroke:#b15928;\" x=\"290.042455\" xlink:href=\"#C0_0_42e056d73e\" y=\"135.705486\"/>\n    </g>\n    <g clip-path=\"url(#p16fec89f07)\">\n     <use style=\"fill:#b15928;stroke:#b15928;\" x=\"306.867788\" xlink:href=\"#C0_0_42e056d73e\" y=\"151.990972\"/>\n    </g>\n    <g clip-path=\"url(#p16fec89f07)\">\n     <use style=\"fill:#b15928;stroke:#b15928;\" x=\"348.93112\" xlink:href=\"#C0_0_42e056d73e\" y=\"70.563542\"/>\n    </g>\n    <g clip-path=\"url(#p16fec89f07)\">\n     <use style=\"fill:#b15928;stroke:#b15928;\" x=\"222.741124\" xlink:href=\"#C0_0_42e056d73e\" y=\"151.990972\"/>\n    </g>\n    <g clip-path=\"url(#p16fec89f07)\">\n     <use style=\"fill:#b15928;stroke:#b15928;\" x=\"214.328458\" xlink:href=\"#C0_0_42e056d73e\" y=\"151.990972\"/>\n    </g>\n    <g clip-path=\"url(#p16fec89f07)\">\n     <use style=\"fill:#b15928;stroke:#b15928;\" x=\"197.503125\" xlink:href=\"#C0_0_42e056d73e\" y=\"168.276458\"/>\n    </g>\n    <g clip-path=\"url(#p16fec89f07)\">\n     <use style=\"fill:#b15928;stroke:#b15928;\" x=\"332.105787\" xlink:href=\"#C0_0_42e056d73e\" y=\"135.705486\"/>\n    </g>\n    <g clip-path=\"url(#p16fec89f07)\">\n     <use style=\"fill:#b15928;stroke:#b15928;\" x=\"214.328458\" xlink:href=\"#C0_0_42e056d73e\" y=\"103.134514\"/>\n    </g>\n    <g clip-path=\"url(#p16fec89f07)\">\n     <use style=\"fill:#b15928;stroke:#b15928;\" x=\"222.741124\" xlink:href=\"#C0_0_42e056d73e\" y=\"127.562743\"/>\n    </g>\n    <g clip-path=\"url(#p16fec89f07)\">\n     <use style=\"fill:#b15928;stroke:#b15928;\" x=\"189.090459\" xlink:href=\"#C0_0_42e056d73e\" y=\"135.705486\"/>\n    </g>\n    <g clip-path=\"url(#p16fec89f07)\">\n     <use style=\"fill:#b15928;stroke:#b15928;\" x=\"264.804456\" xlink:href=\"#C0_0_42e056d73e\" y=\"127.562743\"/>\n    </g>\n    <g clip-path=\"url(#p16fec89f07)\">\n     <use style=\"fill:#b15928;stroke:#b15928;\" x=\"247.979123\" xlink:href=\"#C0_0_42e056d73e\" y=\"127.562743\"/>\n    </g>\n    <g clip-path=\"url(#p16fec89f07)\">\n     <use style=\"fill:#b15928;stroke:#b15928;\" x=\"264.804456\" xlink:href=\"#C0_0_42e056d73e\" y=\"127.562743\"/>\n    </g>\n    <g clip-path=\"url(#p16fec89f07)\">\n     <use style=\"fill:#b15928;stroke:#b15928;\" x=\"172.265126\" xlink:href=\"#C0_0_42e056d73e\" y=\"160.133715\"/>\n    </g>\n    <g clip-path=\"url(#p16fec89f07)\">\n     <use style=\"fill:#b15928;stroke:#b15928;\" x=\"256.39179\" xlink:href=\"#C0_0_42e056d73e\" y=\"119.42\"/>\n    </g>\n    <g clip-path=\"url(#p16fec89f07)\">\n     <use style=\"fill:#b15928;stroke:#b15928;\" x=\"247.979123\" xlink:href=\"#C0_0_42e056d73e\" y=\"111.277257\"/>\n    </g>\n    <g clip-path=\"url(#p16fec89f07)\">\n     <use style=\"fill:#b15928;stroke:#b15928;\" x=\"247.979123\" xlink:href=\"#C0_0_42e056d73e\" y=\"135.705486\"/>\n    </g>\n    <g clip-path=\"url(#p16fec89f07)\">\n     <use style=\"fill:#b15928;stroke:#b15928;\" x=\"214.328458\" xlink:href=\"#C0_0_42e056d73e\" y=\"176.419201\"/>\n    </g>\n    <g clip-path=\"url(#p16fec89f07)\">\n     <use style=\"fill:#b15928;stroke:#b15928;\" x=\"231.153791\" xlink:href=\"#C0_0_42e056d73e\" y=\"135.705486\"/>\n    </g>\n    <g clip-path=\"url(#p16fec89f07)\">\n     <use style=\"fill:#b15928;stroke:#b15928;\" x=\"205.915791\" xlink:href=\"#C0_0_42e056d73e\" y=\"103.134514\"/>\n    </g>\n    <g clip-path=\"url(#p16fec89f07)\">\n     <use style=\"fill:#b15928;stroke:#b15928;\" x=\"180.677792\" xlink:href=\"#C0_0_42e056d73e\" y=\"135.705486\"/>\n    </g>\n   </g>\n   <g id=\"matplotlib.axis_1\">\n    <g id=\"xtick_1\">\n     <g id=\"line2d_1\">\n      <defs>\n       <path d=\"M 0 0 \nL 0 3.5 \n\" id=\"m24b4bc7dd9\" style=\"stroke:#000000;stroke-width:0.8;\"/>\n      </defs>\n      <g>\n       <use style=\"stroke:#000000;stroke-width:0.8;\" x=\"62.900463\" xlink:href=\"#m24b4bc7dd9\" y=\"228.14\"/>\n      </g>\n     </g>\n     <g id=\"text_1\">\n      <!-- 4.5 -->\n      <defs>\n       <path d=\"M 37.796875 64.3125 \nL 12.890625 25.390625 \nL 37.796875 25.390625 \nz\nM 35.203125 72.90625 \nL 47.609375 72.90625 \nL 47.609375 25.390625 \nL 58.015625 25.390625 \nL 58.015625 17.1875 \nL 47.609375 17.1875 \nL 47.609375 0 \nL 37.796875 0 \nL 37.796875 17.1875 \nL 4.890625 17.1875 \nL 4.890625 26.703125 \nz\n\" id=\"DejaVuSans-34\"/>\n       <path d=\"M 10.6875 12.40625 \nL 21 12.40625 \nL 21 0 \nL 10.6875 0 \nz\n\" id=\"DejaVuSans-2e\"/>\n       <path d=\"M 10.796875 72.90625 \nL 49.515625 72.90625 \nL 49.515625 64.59375 \nL 19.828125 64.59375 \nL 19.828125 46.734375 \nQ 21.96875 47.46875 24.109375 47.828125 \nQ 26.265625 48.1875 28.421875 48.1875 \nQ 40.625 48.1875 47.75 41.5 \nQ 54.890625 34.8125 54.890625 23.390625 \nQ 54.890625 11.625 47.5625 5.09375 \nQ 40.234375 -1.421875 26.90625 -1.421875 \nQ 22.3125 -1.421875 17.546875 -0.640625 \nQ 12.796875 0.140625 7.71875 1.703125 \nL 7.71875 11.625 \nQ 12.109375 9.234375 16.796875 8.0625 \nQ 21.484375 6.890625 26.703125 6.890625 \nQ 35.15625 6.890625 40.078125 11.328125 \nQ 45.015625 15.765625 45.015625 23.390625 \nQ 45.015625 31 40.078125 35.4375 \nQ 35.15625 39.890625 26.703125 39.890625 \nQ 22.75 39.890625 18.8125 39.015625 \nQ 14.890625 38.140625 10.796875 36.28125 \nz\n\" id=\"DejaVuSans-35\"/>\n      </defs>\n      <g transform=\"translate(54.9489 242.738437)scale(0.1 -0.1)\">\n       <use xlink:href=\"#DejaVuSans-34\"/>\n       <use x=\"63.623047\" xlink:href=\"#DejaVuSans-2e\"/>\n       <use x=\"95.410156\" xlink:href=\"#DejaVuSans-35\"/>\n      </g>\n     </g>\n    </g>\n    <g id=\"xtick_2\">\n     <g id=\"line2d_2\">\n      <g>\n       <use style=\"stroke:#000000;stroke-width:0.8;\" x=\"104.963795\" xlink:href=\"#m24b4bc7dd9\" y=\"228.14\"/>\n      </g>\n     </g>\n     <g id=\"text_2\">\n      <!-- 5.0 -->\n      <defs>\n       <path d=\"M 31.78125 66.40625 \nQ 24.171875 66.40625 20.328125 58.90625 \nQ 16.5 51.421875 16.5 36.375 \nQ 16.5 21.390625 20.328125 13.890625 \nQ 24.171875 6.390625 31.78125 6.390625 \nQ 39.453125 6.390625 43.28125 13.890625 \nQ 47.125 21.390625 47.125 36.375 \nQ 47.125 51.421875 43.28125 58.90625 \nQ 39.453125 66.40625 31.78125 66.40625 \nz\nM 31.78125 74.21875 \nQ 44.046875 74.21875 50.515625 64.515625 \nQ 56.984375 54.828125 56.984375 36.375 \nQ 56.984375 17.96875 50.515625 8.265625 \nQ 44.046875 -1.421875 31.78125 -1.421875 \nQ 19.53125 -1.421875 13.0625 8.265625 \nQ 6.59375 17.96875 6.59375 36.375 \nQ 6.59375 54.828125 13.0625 64.515625 \nQ 19.53125 74.21875 31.78125 74.21875 \nz\n\" id=\"DejaVuSans-30\"/>\n      </defs>\n      <g transform=\"translate(97.012232 242.738437)scale(0.1 -0.1)\">\n       <use xlink:href=\"#DejaVuSans-35\"/>\n       <use x=\"63.623047\" xlink:href=\"#DejaVuSans-2e\"/>\n       <use x=\"95.410156\" xlink:href=\"#DejaVuSans-30\"/>\n      </g>\n     </g>\n    </g>\n    <g id=\"xtick_3\">\n     <g id=\"line2d_3\">\n      <g>\n       <use style=\"stroke:#000000;stroke-width:0.8;\" x=\"147.027127\" xlink:href=\"#m24b4bc7dd9\" y=\"228.14\"/>\n      </g>\n     </g>\n     <g id=\"text_3\">\n      <!-- 5.5 -->\n      <g transform=\"translate(139.075564 242.738437)scale(0.1 -0.1)\">\n       <use xlink:href=\"#DejaVuSans-35\"/>\n       <use x=\"63.623047\" xlink:href=\"#DejaVuSans-2e\"/>\n       <use x=\"95.410156\" xlink:href=\"#DejaVuSans-35\"/>\n      </g>\n     </g>\n    </g>\n    <g id=\"xtick_4\">\n     <g id=\"line2d_4\">\n      <g>\n       <use style=\"stroke:#000000;stroke-width:0.8;\" x=\"189.090459\" xlink:href=\"#m24b4bc7dd9\" y=\"228.14\"/>\n      </g>\n     </g>\n     <g id=\"text_4\">\n      <!-- 6.0 -->\n      <defs>\n       <path d=\"M 33.015625 40.375 \nQ 26.375 40.375 22.484375 35.828125 \nQ 18.609375 31.296875 18.609375 23.390625 \nQ 18.609375 15.53125 22.484375 10.953125 \nQ 26.375 6.390625 33.015625 6.390625 \nQ 39.65625 6.390625 43.53125 10.953125 \nQ 47.40625 15.53125 47.40625 23.390625 \nQ 47.40625 31.296875 43.53125 35.828125 \nQ 39.65625 40.375 33.015625 40.375 \nz\nM 52.59375 71.296875 \nL 52.59375 62.3125 \nQ 48.875 64.0625 45.09375 64.984375 \nQ 41.3125 65.921875 37.59375 65.921875 \nQ 27.828125 65.921875 22.671875 59.328125 \nQ 17.53125 52.734375 16.796875 39.40625 \nQ 19.671875 43.65625 24.015625 45.921875 \nQ 28.375 48.1875 33.59375 48.1875 \nQ 44.578125 48.1875 50.953125 41.515625 \nQ 57.328125 34.859375 57.328125 23.390625 \nQ 57.328125 12.15625 50.6875 5.359375 \nQ 44.046875 -1.421875 33.015625 -1.421875 \nQ 20.359375 -1.421875 13.671875 8.265625 \nQ 6.984375 17.96875 6.984375 36.375 \nQ 6.984375 53.65625 15.1875 63.9375 \nQ 23.390625 74.21875 37.203125 74.21875 \nQ 40.921875 74.21875 44.703125 73.484375 \nQ 48.484375 72.75 52.59375 71.296875 \nz\n\" id=\"DejaVuSans-36\"/>\n      </defs>\n      <g transform=\"translate(181.138896 242.738437)scale(0.1 -0.1)\">\n       <use xlink:href=\"#DejaVuSans-36\"/>\n       <use x=\"63.623047\" xlink:href=\"#DejaVuSans-2e\"/>\n       <use x=\"95.410156\" xlink:href=\"#DejaVuSans-30\"/>\n      </g>\n     </g>\n    </g>\n    <g id=\"xtick_5\">\n     <g id=\"line2d_5\">\n      <g>\n       <use style=\"stroke:#000000;stroke-width:0.8;\" x=\"231.153791\" xlink:href=\"#m24b4bc7dd9\" y=\"228.14\"/>\n      </g>\n     </g>\n     <g id=\"text_5\">\n      <!-- 6.5 -->\n      <g transform=\"translate(223.202228 242.738437)scale(0.1 -0.1)\">\n       <use xlink:href=\"#DejaVuSans-36\"/>\n       <use x=\"63.623047\" xlink:href=\"#DejaVuSans-2e\"/>\n       <use x=\"95.410156\" xlink:href=\"#DejaVuSans-35\"/>\n      </g>\n     </g>\n    </g>\n    <g id=\"xtick_6\">\n     <g id=\"line2d_6\">\n      <g>\n       <use style=\"stroke:#000000;stroke-width:0.8;\" x=\"273.217123\" xlink:href=\"#m24b4bc7dd9\" y=\"228.14\"/>\n      </g>\n     </g>\n     <g id=\"text_6\">\n      <!-- 7.0 -->\n      <defs>\n       <path d=\"M 8.203125 72.90625 \nL 55.078125 72.90625 \nL 55.078125 68.703125 \nL 28.609375 0 \nL 18.3125 0 \nL 43.21875 64.59375 \nL 8.203125 64.59375 \nz\n\" id=\"DejaVuSans-37\"/>\n      </defs>\n      <g transform=\"translate(265.26556 242.738437)scale(0.1 -0.1)\">\n       <use xlink:href=\"#DejaVuSans-37\"/>\n       <use x=\"63.623047\" xlink:href=\"#DejaVuSans-2e\"/>\n       <use x=\"95.410156\" xlink:href=\"#DejaVuSans-30\"/>\n      </g>\n     </g>\n    </g>\n    <g id=\"xtick_7\">\n     <g id=\"line2d_7\">\n      <g>\n       <use style=\"stroke:#000000;stroke-width:0.8;\" x=\"315.280454\" xlink:href=\"#m24b4bc7dd9\" y=\"228.14\"/>\n      </g>\n     </g>\n     <g id=\"text_7\">\n      <!-- 7.5 -->\n      <g transform=\"translate(307.328892 242.738437)scale(0.1 -0.1)\">\n       <use xlink:href=\"#DejaVuSans-37\"/>\n       <use x=\"63.623047\" xlink:href=\"#DejaVuSans-2e\"/>\n       <use x=\"95.410156\" xlink:href=\"#DejaVuSans-35\"/>\n      </g>\n     </g>\n    </g>\n    <g id=\"xtick_8\">\n     <g id=\"line2d_8\">\n      <g>\n       <use style=\"stroke:#000000;stroke-width:0.8;\" x=\"357.343786\" xlink:href=\"#m24b4bc7dd9\" y=\"228.14\"/>\n      </g>\n     </g>\n     <g id=\"text_8\">\n      <!-- 8.0 -->\n      <defs>\n       <path d=\"M 31.78125 34.625 \nQ 24.75 34.625 20.71875 30.859375 \nQ 16.703125 27.09375 16.703125 20.515625 \nQ 16.703125 13.921875 20.71875 10.15625 \nQ 24.75 6.390625 31.78125 6.390625 \nQ 38.8125 6.390625 42.859375 10.171875 \nQ 46.921875 13.96875 46.921875 20.515625 \nQ 46.921875 27.09375 42.890625 30.859375 \nQ 38.875 34.625 31.78125 34.625 \nz\nM 21.921875 38.8125 \nQ 15.578125 40.375 12.03125 44.71875 \nQ 8.5 49.078125 8.5 55.328125 \nQ 8.5 64.0625 14.71875 69.140625 \nQ 20.953125 74.21875 31.78125 74.21875 \nQ 42.671875 74.21875 48.875 69.140625 \nQ 55.078125 64.0625 55.078125 55.328125 \nQ 55.078125 49.078125 51.53125 44.71875 \nQ 48 40.375 41.703125 38.8125 \nQ 48.828125 37.15625 52.796875 32.3125 \nQ 56.78125 27.484375 56.78125 20.515625 \nQ 56.78125 9.90625 50.3125 4.234375 \nQ 43.84375 -1.421875 31.78125 -1.421875 \nQ 19.734375 -1.421875 13.25 4.234375 \nQ 6.78125 9.90625 6.78125 20.515625 \nQ 6.78125 27.484375 10.78125 32.3125 \nQ 14.796875 37.15625 21.921875 38.8125 \nz\nM 18.3125 54.390625 \nQ 18.3125 48.734375 21.84375 45.5625 \nQ 25.390625 42.390625 31.78125 42.390625 \nQ 38.140625 42.390625 41.71875 45.5625 \nQ 45.3125 48.734375 45.3125 54.390625 \nQ 45.3125 60.0625 41.71875 63.234375 \nQ 38.140625 66.40625 31.78125 66.40625 \nQ 25.390625 66.40625 21.84375 63.234375 \nQ 18.3125 60.0625 18.3125 54.390625 \nz\n\" id=\"DejaVuSans-38\"/>\n      </defs>\n      <g transform=\"translate(349.392224 242.738437)scale(0.1 -0.1)\">\n       <use xlink:href=\"#DejaVuSans-38\"/>\n       <use x=\"63.623047\" xlink:href=\"#DejaVuSans-2e\"/>\n       <use x=\"95.410156\" xlink:href=\"#DejaVuSans-30\"/>\n      </g>\n     </g>\n    </g>\n   </g>\n   <g id=\"matplotlib.axis_2\">\n    <g id=\"ytick_1\">\n     <g id=\"line2d_9\">\n      <defs>\n       <path d=\"M 0 0 \nL -3.5 0 \n\" id=\"m8f98f22a43\" style=\"stroke:#000000;stroke-width:0.8;\"/>\n      </defs>\n      <g>\n       <use style=\"stroke:#000000;stroke-width:0.8;\" x=\"30.103125\" xlink:href=\"#m8f98f22a43\" y=\"217.132917\"/>\n      </g>\n     </g>\n     <g id=\"text_9\">\n      <!-- 2.0 -->\n      <defs>\n       <path d=\"M 19.1875 8.296875 \nL 53.609375 8.296875 \nL 53.609375 0 \nL 7.328125 0 \nL 7.328125 8.296875 \nQ 12.9375 14.109375 22.625 23.890625 \nQ 32.328125 33.6875 34.8125 36.53125 \nQ 39.546875 41.84375 41.421875 45.53125 \nQ 43.3125 49.21875 43.3125 52.78125 \nQ 43.3125 58.59375 39.234375 62.25 \nQ 35.15625 65.921875 28.609375 65.921875 \nQ 23.96875 65.921875 18.8125 64.3125 \nQ 13.671875 62.703125 7.8125 59.421875 \nL 7.8125 69.390625 \nQ 13.765625 71.78125 18.9375 73 \nQ 24.125 74.21875 28.421875 74.21875 \nQ 39.75 74.21875 46.484375 68.546875 \nQ 53.21875 62.890625 53.21875 53.421875 \nQ 53.21875 48.921875 51.53125 44.890625 \nQ 49.859375 40.875 45.40625 35.40625 \nQ 44.1875 33.984375 37.640625 27.21875 \nQ 31.109375 20.453125 19.1875 8.296875 \nz\n\" id=\"DejaVuSans-32\"/>\n      </defs>\n      <g transform=\"translate(7.2 220.932135)scale(0.1 -0.1)\">\n       <use xlink:href=\"#DejaVuSans-32\"/>\n       <use x=\"63.623047\" xlink:href=\"#DejaVuSans-2e\"/>\n       <use x=\"95.410156\" xlink:href=\"#DejaVuSans-30\"/>\n      </g>\n     </g>\n    </g>\n    <g id=\"ytick_2\">\n     <g id=\"line2d_10\">\n      <g>\n       <use style=\"stroke:#000000;stroke-width:0.8;\" x=\"30.103125\" xlink:href=\"#m8f98f22a43\" y=\"176.419201\"/>\n      </g>\n     </g>\n     <g id=\"text_10\">\n      <!-- 2.5 -->\n      <g transform=\"translate(7.2 180.21842)scale(0.1 -0.1)\">\n       <use xlink:href=\"#DejaVuSans-32\"/>\n       <use x=\"63.623047\" xlink:href=\"#DejaVuSans-2e\"/>\n       <use x=\"95.410156\" xlink:href=\"#DejaVuSans-35\"/>\n      </g>\n     </g>\n    </g>\n    <g id=\"ytick_3\">\n     <g id=\"line2d_11\">\n      <g>\n       <use style=\"stroke:#000000;stroke-width:0.8;\" x=\"30.103125\" xlink:href=\"#m8f98f22a43\" y=\"135.705486\"/>\n      </g>\n     </g>\n     <g id=\"text_11\">\n      <!-- 3.0 -->\n      <defs>\n       <path d=\"M 40.578125 39.3125 \nQ 47.65625 37.796875 51.625 33 \nQ 55.609375 28.21875 55.609375 21.1875 \nQ 55.609375 10.40625 48.1875 4.484375 \nQ 40.765625 -1.421875 27.09375 -1.421875 \nQ 22.515625 -1.421875 17.65625 -0.515625 \nQ 12.796875 0.390625 7.625 2.203125 \nL 7.625 11.71875 \nQ 11.71875 9.328125 16.59375 8.109375 \nQ 21.484375 6.890625 26.8125 6.890625 \nQ 36.078125 6.890625 40.9375 10.546875 \nQ 45.796875 14.203125 45.796875 21.1875 \nQ 45.796875 27.640625 41.28125 31.265625 \nQ 36.765625 34.90625 28.71875 34.90625 \nL 20.21875 34.90625 \nL 20.21875 43.015625 \nL 29.109375 43.015625 \nQ 36.375 43.015625 40.234375 45.921875 \nQ 44.09375 48.828125 44.09375 54.296875 \nQ 44.09375 59.90625 40.109375 62.90625 \nQ 36.140625 65.921875 28.71875 65.921875 \nQ 24.65625 65.921875 20.015625 65.03125 \nQ 15.375 64.15625 9.8125 62.3125 \nL 9.8125 71.09375 \nQ 15.4375 72.65625 20.34375 73.4375 \nQ 25.25 74.21875 29.59375 74.21875 \nQ 40.828125 74.21875 47.359375 69.109375 \nQ 53.90625 64.015625 53.90625 55.328125 \nQ 53.90625 49.265625 50.4375 45.09375 \nQ 46.96875 40.921875 40.578125 39.3125 \nz\n\" id=\"DejaVuSans-33\"/>\n      </defs>\n      <g transform=\"translate(7.2 139.504705)scale(0.1 -0.1)\">\n       <use xlink:href=\"#DejaVuSans-33\"/>\n       <use x=\"63.623047\" xlink:href=\"#DejaVuSans-2e\"/>\n       <use x=\"95.410156\" xlink:href=\"#DejaVuSans-30\"/>\n      </g>\n     </g>\n    </g>\n    <g id=\"ytick_4\">\n     <g id=\"line2d_12\">\n      <g>\n       <use style=\"stroke:#000000;stroke-width:0.8;\" x=\"30.103125\" xlink:href=\"#m8f98f22a43\" y=\"94.991771\"/>\n      </g>\n     </g>\n     <g id=\"text_12\">\n      <!-- 3.5 -->\n      <g transform=\"translate(7.2 98.79099)scale(0.1 -0.1)\">\n       <use xlink:href=\"#DejaVuSans-33\"/>\n       <use x=\"63.623047\" xlink:href=\"#DejaVuSans-2e\"/>\n       <use x=\"95.410156\" xlink:href=\"#DejaVuSans-35\"/>\n      </g>\n     </g>\n    </g>\n    <g id=\"ytick_5\">\n     <g id=\"line2d_13\">\n      <g>\n       <use style=\"stroke:#000000;stroke-width:0.8;\" x=\"30.103125\" xlink:href=\"#m8f98f22a43\" y=\"54.278056\"/>\n      </g>\n     </g>\n     <g id=\"text_13\">\n      <!-- 4.0 -->\n      <g transform=\"translate(7.2 58.077274)scale(0.1 -0.1)\">\n       <use xlink:href=\"#DejaVuSans-34\"/>\n       <use x=\"63.623047\" xlink:href=\"#DejaVuSans-2e\"/>\n       <use x=\"95.410156\" xlink:href=\"#DejaVuSans-30\"/>\n      </g>\n     </g>\n    </g>\n    <g id=\"ytick_6\">\n     <g id=\"line2d_14\">\n      <g>\n       <use style=\"stroke:#000000;stroke-width:0.8;\" x=\"30.103125\" xlink:href=\"#m8f98f22a43\" y=\"13.56434\"/>\n      </g>\n     </g>\n     <g id=\"text_14\">\n      <!-- 4.5 -->\n      <g transform=\"translate(7.2 17.363559)scale(0.1 -0.1)\">\n       <use xlink:href=\"#DejaVuSans-34\"/>\n       <use x=\"63.623047\" xlink:href=\"#DejaVuSans-2e\"/>\n       <use x=\"95.410156\" xlink:href=\"#DejaVuSans-35\"/>\n      </g>\n     </g>\n    </g>\n   </g>\n   <g id=\"patch_3\">\n    <path d=\"M 30.103125 228.14 \nL 30.103125 10.7 \n\" style=\"fill:none;stroke:#000000;stroke-linecap:square;stroke-linejoin:miter;stroke-width:0.8;\"/>\n   </g>\n   <g id=\"patch_4\">\n    <path d=\"M 364.903125 228.14 \nL 364.903125 10.7 \n\" style=\"fill:none;stroke:#000000;stroke-linecap:square;stroke-linejoin:miter;stroke-width:0.8;\"/>\n   </g>\n   <g id=\"patch_5\">\n    <path d=\"M 30.103125 228.14 \nL 364.903125 228.14 \n\" style=\"fill:none;stroke:#000000;stroke-linecap:square;stroke-linejoin:miter;stroke-width:0.8;\"/>\n   </g>\n   <g id=\"patch_6\">\n    <path d=\"M 30.103125 10.7 \nL 364.903125 10.7 \n\" style=\"fill:none;stroke:#000000;stroke-linecap:square;stroke-linejoin:miter;stroke-width:0.8;\"/>\n   </g>\n  </g>\n </g>\n <defs>\n  <clipPath id=\"p16fec89f07\">\n   <rect height=\"217.44\" width=\"334.8\" x=\"30.103125\" y=\"10.7\"/>\n  </clipPath>\n </defs>\n</svg>\n"
     },
     "metadata": {
      "needs_background": "light"
     }
    }
   ],
   "source": [
    "plt.scatter(X[:,0], X[:,1], c=y, cmap=plt.cm.get_cmap(name=\"Paired\"))\n",
    "plt.show()"
   ]
  },
  {
   "cell_type": "markdown",
   "metadata": {},
   "source": [
    "4) Split the dataset randomly into training and test data. 70% of data should be used for training and 30% should be used for testing. Implement the function `train_test_split`. Do not modify the interface of the function."
   ]
  },
  {
   "cell_type": "code",
   "execution_count": 284,
   "metadata": {},
   "outputs": [],
   "source": [
    "def train_test_split(X, y):\n",
    "    \"\"\"\n",
    "    Returns X_train, X_test, y_train, y_test, \n",
    "        where X_train and X_test are the input features of the training and test set,\n",
    "        and y_train and y_test are the class labels of the training and test set.\n",
    "    \"\"\"\n",
    "    train, test = np.split(np.random.permutation(np.c_[X, y]), [int(len(y) * 0.7)])\n",
    "\n",
    "\n",
    "    return train[:, :-1], test[:, :-1], train[:, -1].astype(int), test[:, -1].astype(int)\n",
    "\n",
    "X_train, X_test, y_train, y_test = train_test_split(X, y)\n",
    "\n",
    "\n",
    "assert (X_train.shape[0] + X_test.shape[0]) == X.shape[0]\n",
    "assert (y_train.shape[0] + y_test.shape[0]) == y.shape[0]\n",
    "assert X_train.shape[1] == X_test.shape[1]\n"
   ]
  },
  {
   "cell_type": "markdown",
   "metadata": {},
   "source": [
    "5) kNN uses a distance measure to identify close neighbors. If the input features are not of the same scale, the distance is not as meaningful, which can negatively impact classification performance. Perform min-max scaling (i.e. scale the values of the input features in such a way that their range is from 0 to 1) on the training and test data. Remember that you should only use information from the training data to perform the scaling on both data sets."
   ]
  },
  {
   "cell_type": "code",
   "execution_count": 285,
   "metadata": {},
   "outputs": [],
   "source": [
    "def min_max(x_train, x_toscale):\n",
    "    \n",
    "    X_scaled = (x_toscale - x_train.min(axis=0)) / (x_train.max(axis=0) - x_train.min(axis=0))    \n",
    "    return X_scaled  \n",
    "\n",
    "X_test = min_max(X_train, X_test)\n",
    "X_train = min_max(X_train, X_train)"
   ]
  },
  {
   "cell_type": "markdown",
   "metadata": {},
   "source": [
    "## Task 2: k-nearest neighbors\n",
    "\n",
    "**For B.Sc. Data Science:**  \n",
    "Implement the kNN algorithm with uniform weighting and arbitrary `k`. Fill out the `predict` method of class `KNearestNeighborsClassifier`. \n",
    "\n",
    "Use Euclidean distance to determine the nearest neighbors.\n",
    "You can ignore the optional parameter `distance_metric`, which is provided as a field in the kNN class.\n",
    "\n",
    "**For everyone else:**  \n",
    "Implement the kNN algorithm with distance-based weighting and arbitrary `k`.\n",
    "Fill out the `predict` method of class `KNearestNeighborsClassifier`.\n",
    "\n",
    "The parameter `distance_metric` will either contain the string `uniform` or a function. If the value is `uniform`, the classifier should use the Euclidean distance for determining nearest neighbors and uniform weighting. If the value is a function, the classifier should use the function as distance metric and perform distance-weighted classification. An example distance metric is provided with `euclidean_distance`."
   ]
  },
  {
   "cell_type": "code",
   "execution_count": 286,
   "metadata": {},
   "outputs": [],
   "source": [
    "class KNearestNeighbors(object):\n",
    "    def __init__(self, k, distance_metric='uniform'):\n",
    "        self.k = k\n",
    "        self.distance_metric = distance_metric\n",
    "        \n",
    "    def fit(self, X, y):\n",
    "        \"\"\"\n",
    "        This functions saves the training data to be used during the prediction.\n",
    "        \"\"\"\n",
    "        self.X = X\n",
    "        self.y = y\n",
    "    \n",
    "    def predict(self, X):\n",
    "        \"\"\"\n",
    "        Returns a vector of shape (n,) if X has shape (n,d), \n",
    "        where n is the number of samples and d is the number of features.\n",
    "        \"\"\"\n",
    "        y_pred = []\n",
    "               \n",
    "        for sample in X:            \n",
    "            # entry of form [index, distance, label, weight]\n",
    "            distance = []\n",
    "            for i in range(len(self.X)):                \n",
    "                dist = euclidean_distance(self.X[i], sample) if self.distance_metric == 'uniform' else self.distance_metric(self.X[i],sample)                \n",
    "                distance.append([i,dist,int(self.y[i]), 0])                \n",
    "            distance.sort(key=lambda x: x[1])\n",
    "            distance = distance[:self.k]\n",
    "\n",
    "            # Add weights depending on distance-rank (harmonic row)\n",
    "            harmonic_row = [float(1)/float(i+1) for i in range(self.k)]            \n",
    "            for i in range(self.k):                \n",
    "                distance[i][3] = sum(harmonic_row[i:]) / self.k                           \n",
    "                \n",
    "\n",
    "            if self.distance_metric == 'uniform':                \n",
    "                occurences = np.bincount(np.array(distance)[:,2].astype(int))\n",
    "                y_pred.append(np.argmax(occurences))\n",
    "            else :\n",
    "                # Determine label by adding weights of each label\n",
    "                labels = np.unique(np.array(distance)[:,2].astype(int))\n",
    "                weights = []                \n",
    "                for lb in labels: \n",
    "                    weight = 0                                      \n",
    "                    for i in range(self.k):\n",
    "                        if (distance[i][2] == lb): weight = weight + distance[i][3] \n",
    "                    weights.append(weight)                \n",
    "                y_pred.append(labels[np.argmax(weights)])              \n",
    "        \n",
    "        return np.array(y_pred)        \n",
    "\n",
    "    \n",
    "def euclidean_distance(x1, x2):\n",
    "    \"\"\"\n",
    "    Given vectors x1 and x2 with shape (n,) returns distance between vectors as float.\n",
    "    \"\"\"\n",
    "    return np.sqrt(np.sum((x1 - x2)*(x1 - x2)))\n",
    "\n"
   ]
  },
  {
   "cell_type": "markdown",
   "metadata": {},
   "source": [
    "## Task 3: Evaluation\n",
    "\n",
    "1) Implement functions to compute precision, recall and F1-score. `y_pred` and `y_true` are the vectors of predicted and true class labels respectively with shape `(n,)`, where `n` is the number of samples. Each function should return a float containing the corresponding score."
   ]
  },
  {
   "cell_type": "code",
   "execution_count": 287,
   "metadata": {},
   "outputs": [],
   "source": [
    "def precision(y_pred, y_true):\n",
    "    labels = np.unique(y_true)    \n",
    "    weighted_precision = 0.\n",
    "    for lb in labels:        \n",
    "        true_p = float(len(y_pred[y_true == lb][y_pred[y_true == lb] == lb]))\n",
    "        prec = float(true_p / np.bincount(y_pred)[lb])\n",
    "        weighted_precision = weighted_precision + prec * np.bincount(y_true)[lb]           \n",
    "    return weighted_precision / len(y_true)\n",
    "    \n",
    "\n",
    "def recall(y_pred, y_true):\n",
    "    labels = np.unique(y_true)\n",
    "    weighted_recall = 0.\n",
    "    for lb in labels:\n",
    "        true_p = float(len(y_pred[y_true == lb][y_pred[y_true == lb] == lb]))\n",
    "        rec = float(true_p / (true_p + (np.bincount(y_true)[lb] - true_p)))        \n",
    "        weighted_recall = weighted_recall + rec * np.bincount(y_true)[lb]\n",
    "    return weighted_recall / len(y_true)\n",
    "\n",
    "def f1score(y_pred, y_true):\n",
    "    labels = np.unique(y_true)\n",
    "    weighted_f1 = 0.\n",
    "    for lb in labels:\n",
    "        true_p = float(len(y_pred[y_true == lb][y_pred[y_true == lb] == lb]))\n",
    "        prec = float(true_p / np.bincount(y_pred)[lb])\n",
    "        rec = float(true_p / (true_p + (np.bincount(y_true)[lb] - true_p)))\n",
    "        \n",
    "        weighted_f1 = weighted_f1 + (2*float(rec * prec)/(float(rec) + float(prec))) * np.bincount(y_true)[lb]\n",
    "        \n",
    "    return weighted_f1 / len(y_true)   "
   ]
  },
  {
   "cell_type": "markdown",
   "metadata": {},
   "source": [
    "2) Evaluate the performance of kNN with uniform weighting on the Iris dataset for `k=1,3,5`. Train each of the `3` classifiers on the training data from Task 1. Perform the predictions on both the training and test data. Then compute precision, recall, and F1-score for each model and for both training and test data. Print all scores per model. What do you observe?\n",
    "\n",
    "**For all students other than B.Sc. Data Science:** \n",
    "Evaluate the kNN classifier with Euclidean distance-weighting. Compare the performance to uniform-weighting. How does the performance change compared to uniform weighting for each `k`?"
   ]
  },
  {
   "cell_type": "code",
   "execution_count": 288,
   "metadata": {},
   "outputs": [
    {
     "output_type": "stream",
     "name": "stdout",
     "text": "14.0\n1.0\n16.0\n0.842105263158\n12.0\n1.0\n36.0\n1.0\n34.0\n1.0\n35.0\n1.0\n14.0\n1.0\n16.0\n0.888888888889\n13.0\n1.0\n36.0\n1.0\n33.0\n0.916666666667\n32.0\n0.969696969697\n14.0\n1.0\n16.0\n0.941176470588\n14.0\n1.0\n36.0\n1.0\n33.0\n0.916666666667\n32.0\n0.969696969697\n1NN Test Data - Precision: 0.943859649123 , Recall: 0.933333333333 , F1 Score: 0.932486772487\n1NN Training Data - Precision: 1.0 , Recall: 1.0 , F1 Score: 1.0\n3NN Test Data - Precision: 0.96049382716 , Recall: 0.955555555556 , F1 Score: 0.955275443511\n3NN Training Data - Precision: 0.962914862915 , Recall: 0.961904761905 , F1 Score: 0.961888755502\n5NN Test Data - Precision: 0.97908496732 , Recall: 0.977777777778 , F1 Score: 0.977731336352\n5NN Training Data - Precision: 0.962914862915 , Recall: 0.961904761905 , F1 Score: 0.961888755502\n\n14.0\n1.0\n16.0\n0.842105263158\n12.0\n1.0\n36.0\n1.0\n34.0\n1.0\n35.0\n1.0\n14.0\n1.0\n16.0\n0.842105263158\n12.0\n1.0\n36.0\n1.0\n34.0\n1.0\n35.0\n1.0\n14.0\n1.0\n16.0\n0.888888888889\n13.0\n1.0\n36.0\n1.0\n34.0\n0.944444444444\n33.0\n1.0\n1NN Test Data - Precision: 0.943859649123 , Recall: 0.933333333333 , F1 Score: 0.932486772487\n1NN Training Data - Precision: 1.0 , Recall: 1.0 , F1 Score: 1.0\n3NN Test Data - Precision: 0.943859649123 , Recall: 0.933333333333 , F1 Score: 0.932486772487\n3NN Training Data - Precision: 1.0 , Recall: 1.0 , F1 Score: 1.0\n5NN Test Data - Precision: 0.96049382716 , Recall: 0.955555555556 , F1 Score: 0.955275443511\n5NN Training Data - Precision: 0.982010582011 , Recall: 0.980952380952 , F1 Score: 0.980944377751\n"
    }
   ],
   "source": [
    "# Uniform weighting\n",
    "kNN1 = KNearestNeighbors(1)\n",
    "kNN3 = KNearestNeighbors(3)\n",
    "kNN5 = KNearestNeighbors(5)\n",
    "kNN1.fit(X_train,y_train)\n",
    "kNN3.fit(X_train,y_train)\n",
    "kNN5.fit(X_train,y_train)\n",
    "\n",
    "y_test_pred_1 = kNN1.predict(X_test)\n",
    "y_train_pred_1 = kNN1.predict(X_train)\n",
    "y_test_pred_3 = kNN3.predict(X_test)\n",
    "y_train_pred_3 = kNN3.predict(X_train)\n",
    "y_test_pred_5 = kNN5.predict(X_test)\n",
    "y_train_pred_5 = kNN5.predict(X_train)\n",
    "\n",
    "#1NN test data\n",
    "prec_1 = precision(y_test_pred_1, y_test)\n",
    "rec_1 = recall(y_test_pred_1, y_test)\n",
    "f1_1 = f1score(y_test_pred_1, y_test)\n",
    "\n",
    "#1NN training data\n",
    "prec_1_train = precision(y_train_pred_1, y_train)\n",
    "rec_1_train = recall(y_train_pred_1, y_train)\n",
    "f1_1_train = f1score(y_train_pred_1, y_train)\n",
    "\n",
    "#3NN test data\n",
    "prec_3 = precision(y_test_pred_3, y_test)\n",
    "rec_3 = recall(y_test_pred_3, y_test)\n",
    "f1_3 = f1score(y_test_pred_3, y_test)\n",
    "\n",
    "#5NN training data\n",
    "prec_3_train = precision(y_train_pred_3, y_train)\n",
    "rec_3_train = recall(y_train_pred_3, y_train)\n",
    "f1_3_train = f1score(y_train_pred_3, y_train)\n",
    "\n",
    "#5NN test data\n",
    "prec_5 = precision(y_test_pred_5, y_test)\n",
    "rec_5 = recall(y_test_pred_5, y_test)\n",
    "f1_5 = f1score(y_test_pred_5, y_test)\n",
    "\n",
    "#5NN training data\n",
    "prec_5_train = precision(y_train_pred_5, y_train)\n",
    "rec_5_train = recall(y_train_pred_5, y_train)\n",
    "f1_5_train = f1score(y_train_pred_5, y_train)\n",
    "\n",
    "print(\"1NN Test Data - Precision: {} , Recall: {} , F1 Score: {}\".format(prec_1,rec_1,f1_1))\n",
    "print(\"1NN Training Data - Precision: {} , Recall: {} , F1 Score: {}\".format(prec_1_train,rec_1_train,f1_1_train))\n",
    "\n",
    "print(\"3NN Test Data - Precision: {} , Recall: {} , F1 Score: {}\".format(prec_3,rec_3,f1_3))\n",
    "print(\"3NN Training Data - Precision: {} , Recall: {} , F1 Score: {}\".format(prec_3_train,rec_3_train,f1_3_train))\n",
    "\n",
    "print(\"5NN Test Data - Precision: {} , Recall: {} , F1 Score: {}\".format(prec_5,rec_5,f1_5))\n",
    "print(\"5NN Training Data - Precision: {} , Recall: {} , F1 Score: {}\\n\".format(prec_5_train,rec_5_train,f1_5_train))\n",
    "\n",
    "#distance-based weighting\n",
    "kNN1 = KNearestNeighbors(1,euclidean_distance)\n",
    "kNN3 = KNearestNeighbors(3,euclidean_distance)\n",
    "kNN5 = KNearestNeighbors(5,euclidean_distance)\n",
    "kNN1.fit(X_train,y_train)\n",
    "kNN3.fit(X_train,y_train)\n",
    "kNN5.fit(X_train,y_train)\n",
    "\n",
    "y_test_pred_1 = kNN1.predict(X_test)\n",
    "y_train_pred_1 = kNN1.predict(X_train)\n",
    "y_test_pred_3 = kNN3.predict(X_test)\n",
    "y_train_pred_3 = kNN3.predict(X_train)\n",
    "y_test_pred_5 = kNN5.predict(X_test)\n",
    "y_train_pred_5 = kNN5.predict(X_train)\n",
    "\n",
    "#1NN test data\n",
    "prec_1 = precision(y_test_pred_1, y_test)\n",
    "rec_1 = recall(y_test_pred_1, y_test)\n",
    "f1_1 = f1score(y_test_pred_1, y_test)\n",
    "\n",
    "#1NN training data\n",
    "prec_1_train = precision(y_train_pred_1, y_train)\n",
    "rec_1_train = recall(y_train_pred_1, y_train)\n",
    "f1_1_train = f1score(y_train_pred_1, y_train)\n",
    "\n",
    "#3NN test data\n",
    "prec_3 = precision(y_test_pred_3, y_test)\n",
    "rec_3 = recall(y_test_pred_3, y_test)\n",
    "f1_3 = f1score(y_test_pred_3, y_test)\n",
    "\n",
    "#5NN training data\n",
    "prec_3_train = precision(y_train_pred_3, y_train)\n",
    "rec_3_train = recall(y_train_pred_3, y_train)\n",
    "f1_3_train = f1score(y_train_pred_3, y_train)\n",
    "\n",
    "#5NN test data\n",
    "prec_5 = precision(y_test_pred_5, y_test)\n",
    "rec_5 = recall(y_test_pred_5, y_test)\n",
    "f1_5 = f1score(y_test_pred_5, y_test)\n",
    "\n",
    "#5NN training data\n",
    "prec_5_train = precision(y_train_pred_5, y_train)\n",
    "rec_5_train = recall(y_train_pred_5, y_train)\n",
    "f1_5_train = f1score(y_train_pred_5, y_train)\n",
    "\n",
    "print(\"1NN Test Data - Precision: {} , Recall: {} , F1 Score: {}\".format(prec_1,rec_1,f1_1))\n",
    "print(\"1NN Training Data - Precision: {} , Recall: {} , F1 Score: {}\".format(prec_1_train,rec_1_train,f1_1_train))\n",
    "\n",
    "print(\"3NN Test Data - Precision: {} , Recall: {} , F1 Score: {}\".format(prec_3,rec_3,f1_3))\n",
    "print(\"3NN Training Data - Precision: {} , Recall: {} , F1 Score: {}\".format(prec_3_train,rec_3_train,f1_3_train))\n",
    "\n",
    "print(\"5NN Test Data - Precision: {} , Recall: {} , F1 Score: {}\".format(prec_5,rec_5,f1_5))\n",
    "print(\"5NN Training Data - Precision: {} , Recall: {} , F1 Score: {}\".format(prec_5_train,rec_5_train,f1_5_train))\n",
    "\n"
   ]
  },
  {
   "cell_type": "markdown",
   "metadata": {},
   "source": [
    "1NN achieves perfect results on the training data, but has the least precise results on the training data.\n",
    "5NN achieves the best results on the test data.\n",
    "\n",
    "When using Euclidean distance-weighting the performance decreases for all k.\n"
   ]
  },
  {
   "cell_type": "markdown",
   "metadata": {},
   "source": [
    "3) Explain why kNN with `k=1` achieves perfect results on the training data. Why is it not the best model?"
   ]
  },
  {
   "cell_type": "markdown",
   "metadata": {},
   "source": [
    "k=1 achieves the perfect result on the training data because we only pick the 1-nearest point.\n",
    "1KK has the least amount of generalization, and has therefore a high sensitivity regarding outliers.\n",
    "This leads to bad performance on new data.\n"
   ]
  }
 ],
 "metadata": {
  "kernelspec": {
   "display_name": "Python 2.7.17 64-bit",
   "language": "python",
   "name": "python271764bit9edbe0919cd64f96ba45aec4dc2475c6"
  },
  "language_info": {
   "codemirror_mode": {
    "name": "ipython",
    "version": 3
   },
   "file_extension": ".py",
   "mimetype": "text/x-python",
   "name": "python",
   "nbconvert_exporter": "python",
   "pygments_lexer": "ipython3",
   "version": "2.7.17-final"
  }
 },
 "nbformat": 4,
 "nbformat_minor": 1
}
